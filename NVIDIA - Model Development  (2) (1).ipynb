{
 "cells": [
  {
   "cell_type": "code",
   "execution_count": 1,
   "id": "7bce9365",
   "metadata": {},
   "outputs": [
    {
     "name": "stdout",
     "output_type": "stream",
     "text": [
      "                                             Articles  Overall Sentiment   \\\n",
      "0    A New Lens: Dotlumen CEO Cornel Amariei on Ass...           Positive   \n",
      "1    Coming Up ACEs: Decoding the AI Technology Tha...           Positive   \n",
      "2    Greater Scope: Doctors Get Inside Look at Gut ...           Positive   \n",
      "3                 Get Cozy With ‘Palia’ on GeForce NOW           Positive   \n",
      "4    NVIDIA Hopper Leaps Ahead in Generative AI at ...           Positive   \n",
      "..                                                 ...                ...   \n",
      "338                                                NaN                NaN   \n",
      "339                                                NaN                NaN   \n",
      "340                                                NaN                NaN   \n",
      "341                                                NaN                NaN   \n",
      "342                                                NaN                NaN   \n",
      "\n",
      "     Positive Sentiment Score   Negative Sentiment Score   \\\n",
      "0                         0.07                       0.00   \n",
      "1                         0.12                       0.01   \n",
      "2                         0.09                       0.02   \n",
      "3                         0.13                       0.01   \n",
      "4                         0.08                       0.01   \n",
      "..                         ...                        ...   \n",
      "338                        NaN                        NaN   \n",
      "339                        NaN                        NaN   \n",
      "340                        NaN                        NaN   \n",
      "341                        NaN                        NaN   \n",
      "342                        NaN                        NaN   \n",
      "\n",
      "     Neutral Sentiment Score  Percentage Change in MC  \\\n",
      "0                        0.93                  -3.44%   \n",
      "1                        0.88                  -3.44%   \n",
      "2                        0.89                   0.01%   \n",
      "3                        0.87                   0.01%   \n",
      "4                        0.91                   0.12%   \n",
      "..                        ...                     ...   \n",
      "338                       NaN                     NaN   \n",
      "339                       NaN                     NaN   \n",
      "340                       NaN                     NaN   \n",
      "341                       NaN                     NaN   \n",
      "342                       NaN                     NaN   \n",
      "\n",
      "     Amount in Dollars Change inMC       Date    Open    High     Low   Close   \n",
      "0                        -30.590027   4/3/2024  904.06  906.34  858.80  859.05  \n",
      "1                        -30.590027   4/3/2024  904.06  906.34  858.80  859.05  \n",
      "2                          0.070007  3/28/2024  900.00  913.00  891.93  903.56  \n",
      "3                          0.070007  3/29/2024  900.00  913.00  891.93  903.56  \n",
      "4                          1.059998  3/27/2024  931.12  932.40  891.23  902.50  \n",
      "..                              ...        ...     ...     ...     ...     ...  \n",
      "338                             NaN        NaN     NaN     NaN     NaN     NaN  \n",
      "339                             NaN        NaN     NaN     NaN     NaN     NaN  \n",
      "340                             NaN        NaN     NaN     NaN     NaN     NaN  \n",
      "341                             NaN        NaN     NaN     NaN     NaN     NaN  \n",
      "342                             NaN        NaN     NaN     NaN     NaN     NaN  \n",
      "\n",
      "[343 rows x 12 columns]\n"
     ]
    }
   ],
   "source": [
    "import pandas as pd\n",
    "\n",
    "# Replace 'Analysis.csv' with the actual file path\n",
    "filename = 'AnalysisofMSinStocks.csv'\n",
    "\n",
    "# Read the CSV file into a pandas DataFrame\n",
    "df = pd.read_csv(filename)\n",
    "\n",
    "# Display the DataFrame\n",
    "print(df)"
   ]
  },
  {
   "cell_type": "code",
   "execution_count": 2,
   "id": "4329dc62",
   "metadata": {},
   "outputs": [],
   "source": [
    "df = df.dropna(how='any')"
   ]
  },
  {
   "cell_type": "code",
   "execution_count": 3,
   "id": "29dfdbf0",
   "metadata": {},
   "outputs": [
    {
     "name": "stdout",
     "output_type": "stream",
     "text": [
      "['Articles ', 'Overall Sentiment ', 'Positive Sentiment Score ', 'Negative Sentiment Score ', 'Neutral Sentiment Score ', 'Percentage Change in MC', 'Amount in Dollars Change inMC ', 'Date ', 'Open ', 'High ', 'Low ', 'Close ']\n"
     ]
    }
   ],
   "source": [
    "import pandas as pd\n",
    "\n",
    "# Assuming you have a DataFrame named df\n",
    "column_names = df.columns.tolist()\n",
    "print(column_names)\n"
   ]
  },
  {
   "cell_type": "code",
   "execution_count": 4,
   "id": "5674331c",
   "metadata": {},
   "outputs": [],
   "source": [
    "from sklearn.linear_model import LinearRegression"
   ]
  },
  {
   "cell_type": "code",
   "execution_count": 5,
   "id": "8a2a8a50",
   "metadata": {},
   "outputs": [
    {
     "name": "stdout",
     "output_type": "stream",
     "text": [
      "    Positive Sentiment Score   Negative Sentiment Score   Neutral Sentiment Score   Amount in Dollars Change inMC    Open    High     Low   Close \n",
      "0                        0.07                       0.00                      0.93                      -30.590027  904.06  906.34  858.80  859.05\n",
      "1                        0.12                       0.01                      0.88                      -30.590027  904.06  906.34  858.80  859.05\n",
      "2                        0.09                       0.02                      0.89                        0.070007  900.00  913.00  891.93  903.56\n",
      "3                        0.13                       0.01                      0.87                        0.070007  900.00  913.00  891.93  903.56\n",
      "4                        0.08                       0.01                      0.91                        1.059998  931.12  932.40  891.23  902.50\n",
      "5                        0.15                       0.01                      0.84                        1.059998  931.12  932.40  891.23  902.50\n",
      "6                        0.07                       0.00                      0.93                        1.059998  931.12  932.40  891.23  902.50\n",
      "7                        0.10                       0.00                      0.90                      -23.109985  958.51  963.75  925.02  925.61\n",
      "8                        0.12                       0.01                      0.87                      -23.109985  958.51  963.75  925.02  925.61\n",
      "9                        0.05                       0.01                      0.94                      -23.109985  958.51  963.75  925.02  925.61\n",
      "10                       0.06                       0.00                      0.94                      -24.410034  939.41  967.66  935.10  950.02\n",
      "11                       0.11                       0.03                      0.86                      -24.410034  923.00  926.48  904.05  914.35\n",
      "12                       0.08                       0.12                      0.80                       28.540039  923.00  926.48  904.05  914.35\n",
      "13                       0.06                       0.00                      0.94                       28.540039  923.00  926.48  904.05  914.35\n",
      "14                       0.09                       0.03                      0.88                       28.540039  923.00  926.48  904.05  914.35\n",
      "15                       0.12                       0.00                      0.88                       10.630005  897.97  904.10  882.23  903.72\n",
      "16                       0.19                       0.02                      0.79                        9.739990  867.00  905.44  850.10  893.98\n",
      "17                       0.17                       0.06                      0.78                        9.739990  867.00  905.44  850.10  893.98\n",
      "18                       0.17                       0.01                      0.82                        9.739990  867.00  905.44  850.10  893.98\n",
      "19                       0.13                       0.00                      0.87                        9.739990  867.00  905.44  850.10  893.98\n",
      "20                       0.11                       0.00                      0.89                        9.739990  867.00  905.44  850.10  893.98\n",
      "21                       0.09                       0.00                      0.91                        9.429993  903.88  924.05  870.85  884.55\n",
      "22                       0.15                       0.01                      0.84                        9.429993  903.88  924.05  870.85  884.55\n",
      "23                       0.10                       0.00                      0.90                        9.429993  903.88  924.05  870.85  884.55\n",
      "24                       0.11                       0.00                      0.89                        9.429993  903.88  924.05  870.85  884.55\n",
      "25                       0.11                       0.00                      0.89                        9.429993  903.88  924.05  870.85  884.55\n",
      "26                       0.11                       0.01                      0.88                        9.429993  903.88  924.05  870.85  884.55\n",
      "27                       0.13                       0.01                      0.85                        9.429993  903.88  924.05  870.85  884.55\n",
      "28                       0.07                       0.01                      0.92                        9.429993  903.88  924.05  870.85  884.55\n",
      "29                       0.14                       0.01                      0.85                        9.429993  903.88  924.05  870.85  884.55\n",
      "30                       0.11                       0.00                      0.89                        9.429993  903.88  924.05  870.85  884.55\n",
      "31                       0.09                       0.02                      0.89                        9.429993  903.88  924.05  870.85  884.55\n",
      "32                       0.15                       0.01                      0.83                        9.429993  903.88  924.05  870.85  884.55\n",
      "33                       0.10                       0.00                      0.90                        9.429993  903.88  924.05  870.85  884.55\n",
      "34                       0.13                       0.01                      0.86                        9.429993  903.88  924.05  870.85  884.55\n",
      "35                       0.13                       0.01                      0.86                        9.429993  903.88  924.05  870.85  884.55\n",
      "36                       0.10                       0.01                      0.89                        9.429993  903.88  924.05  870.85  884.55\n",
      "37                       0.12                       0.00                      0.88                        9.429993  903.88  924.05  870.85  884.55\n",
      "38                       0.10                       0.00                      0.90                        9.429993  903.88  924.05  870.85  884.55\n",
      "39                       0.07                       0.02                      0.91                        9.429993  903.88  924.05  870.85  884.55\n",
      "40                       0.07                       0.02                      0.91                        9.429993  903.88  924.05  870.85  884.55\n",
      "41                       0.07                       0.01                      0.92                        9.429993  903.88  924.05  870.85  884.55\n",
      "42                       0.12                       0.01                      0.87                        9.429993  903.88  924.05  870.85  884.55\n",
      "43                       0.11                       0.00                      0.89                        9.429993  903.88  924.05  870.85  884.55\n",
      "44                       0.10                       0.01                      0.89                        9.429993  903.88  924.05  870.85  884.55\n",
      "45                       0.08                       0.20                      0.90                        9.429993  903.88  924.05  870.85  884.55\n",
      "46                       0.10                       0.04                      0.86                        9.429993  903.88  924.05  870.85  884.55\n"
     ]
    }
   ],
   "source": [
    "# Now to only use numeric data \n",
    "df=df._get_numeric_data()\n",
    "print(df.to_string())\n"
   ]
  },
  {
   "cell_type": "code",
   "execution_count": 6,
   "id": "b045d484",
   "metadata": {},
   "outputs": [
    {
     "data": {
      "text/html": [
       "<style>#sk-container-id-1 {color: black;}#sk-container-id-1 pre{padding: 0;}#sk-container-id-1 div.sk-toggleable {background-color: white;}#sk-container-id-1 label.sk-toggleable__label {cursor: pointer;display: block;width: 100%;margin-bottom: 0;padding: 0.3em;box-sizing: border-box;text-align: center;}#sk-container-id-1 label.sk-toggleable__label-arrow:before {content: \"▸\";float: left;margin-right: 0.25em;color: #696969;}#sk-container-id-1 label.sk-toggleable__label-arrow:hover:before {color: black;}#sk-container-id-1 div.sk-estimator:hover label.sk-toggleable__label-arrow:before {color: black;}#sk-container-id-1 div.sk-toggleable__content {max-height: 0;max-width: 0;overflow: hidden;text-align: left;background-color: #f0f8ff;}#sk-container-id-1 div.sk-toggleable__content pre {margin: 0.2em;color: black;border-radius: 0.25em;background-color: #f0f8ff;}#sk-container-id-1 input.sk-toggleable__control:checked~div.sk-toggleable__content {max-height: 200px;max-width: 100%;overflow: auto;}#sk-container-id-1 input.sk-toggleable__control:checked~label.sk-toggleable__label-arrow:before {content: \"▾\";}#sk-container-id-1 div.sk-estimator input.sk-toggleable__control:checked~label.sk-toggleable__label {background-color: #d4ebff;}#sk-container-id-1 div.sk-label input.sk-toggleable__control:checked~label.sk-toggleable__label {background-color: #d4ebff;}#sk-container-id-1 input.sk-hidden--visually {border: 0;clip: rect(1px 1px 1px 1px);clip: rect(1px, 1px, 1px, 1px);height: 1px;margin: -1px;overflow: hidden;padding: 0;position: absolute;width: 1px;}#sk-container-id-1 div.sk-estimator {font-family: monospace;background-color: #f0f8ff;border: 1px dotted black;border-radius: 0.25em;box-sizing: border-box;margin-bottom: 0.5em;}#sk-container-id-1 div.sk-estimator:hover {background-color: #d4ebff;}#sk-container-id-1 div.sk-parallel-item::after {content: \"\";width: 100%;border-bottom: 1px solid gray;flex-grow: 1;}#sk-container-id-1 div.sk-label:hover label.sk-toggleable__label {background-color: #d4ebff;}#sk-container-id-1 div.sk-serial::before {content: \"\";position: absolute;border-left: 1px solid gray;box-sizing: border-box;top: 0;bottom: 0;left: 50%;z-index: 0;}#sk-container-id-1 div.sk-serial {display: flex;flex-direction: column;align-items: center;background-color: white;padding-right: 0.2em;padding-left: 0.2em;position: relative;}#sk-container-id-1 div.sk-item {position: relative;z-index: 1;}#sk-container-id-1 div.sk-parallel {display: flex;align-items: stretch;justify-content: center;background-color: white;position: relative;}#sk-container-id-1 div.sk-item::before, #sk-container-id-1 div.sk-parallel-item::before {content: \"\";position: absolute;border-left: 1px solid gray;box-sizing: border-box;top: 0;bottom: 0;left: 50%;z-index: -1;}#sk-container-id-1 div.sk-parallel-item {display: flex;flex-direction: column;z-index: 1;position: relative;background-color: white;}#sk-container-id-1 div.sk-parallel-item:first-child::after {align-self: flex-end;width: 50%;}#sk-container-id-1 div.sk-parallel-item:last-child::after {align-self: flex-start;width: 50%;}#sk-container-id-1 div.sk-parallel-item:only-child::after {width: 0;}#sk-container-id-1 div.sk-dashed-wrapped {border: 1px dashed gray;margin: 0 0.4em 0.5em 0.4em;box-sizing: border-box;padding-bottom: 0.4em;background-color: white;}#sk-container-id-1 div.sk-label label {font-family: monospace;font-weight: bold;display: inline-block;line-height: 1.2em;}#sk-container-id-1 div.sk-label-container {text-align: center;}#sk-container-id-1 div.sk-container {/* jupyter's `normalize.less` sets `[hidden] { display: none; }` but bootstrap.min.css set `[hidden] { display: none !important; }` so we also need the `!important` here to be able to override the default hidden behavior on the sphinx rendered scikit-learn.org. See: https://github.com/scikit-learn/scikit-learn/issues/21755 */display: inline-block !important;position: relative;}#sk-container-id-1 div.sk-text-repr-fallback {display: none;}</style><div id=\"sk-container-id-1\" class=\"sk-top-container\"><div class=\"sk-text-repr-fallback\"><pre>LinearRegression()</pre><b>In a Jupyter environment, please rerun this cell to show the HTML representation or trust the notebook. <br />On GitHub, the HTML representation is unable to render, please try loading this page with nbviewer.org.</b></div><div class=\"sk-container\" hidden><div class=\"sk-item\"><div class=\"sk-estimator sk-toggleable\"><input class=\"sk-toggleable__control sk-hidden--visually\" id=\"sk-estimator-id-1\" type=\"checkbox\" checked><label for=\"sk-estimator-id-1\" class=\"sk-toggleable__label sk-toggleable__label-arrow\">LinearRegression</label><div class=\"sk-toggleable__content\"><pre>LinearRegression()</pre></div></div></div></div></div>"
      ],
      "text/plain": [
       "LinearRegression()"
      ]
     },
     "execution_count": 6,
     "metadata": {},
     "output_type": "execute_result"
    }
   ],
   "source": [
    "lm = LinearRegression()\n",
    "lm"
   ]
  },
  {
   "cell_type": "code",
   "execution_count": 7,
   "id": "fc8bdfeb",
   "metadata": {},
   "outputs": [],
   "source": [
    "X = df[['Positive Sentiment Score ','Amount in Dollars Change inMC ','Open ','High ','Low ']]\n",
    "Y = df['Close ']"
   ]
  },
  {
   "cell_type": "code",
   "execution_count": 8,
   "id": "2e38ac4b",
   "metadata": {},
   "outputs": [
    {
     "data": {
      "text/html": [
       "<style>#sk-container-id-2 {color: black;}#sk-container-id-2 pre{padding: 0;}#sk-container-id-2 div.sk-toggleable {background-color: white;}#sk-container-id-2 label.sk-toggleable__label {cursor: pointer;display: block;width: 100%;margin-bottom: 0;padding: 0.3em;box-sizing: border-box;text-align: center;}#sk-container-id-2 label.sk-toggleable__label-arrow:before {content: \"▸\";float: left;margin-right: 0.25em;color: #696969;}#sk-container-id-2 label.sk-toggleable__label-arrow:hover:before {color: black;}#sk-container-id-2 div.sk-estimator:hover label.sk-toggleable__label-arrow:before {color: black;}#sk-container-id-2 div.sk-toggleable__content {max-height: 0;max-width: 0;overflow: hidden;text-align: left;background-color: #f0f8ff;}#sk-container-id-2 div.sk-toggleable__content pre {margin: 0.2em;color: black;border-radius: 0.25em;background-color: #f0f8ff;}#sk-container-id-2 input.sk-toggleable__control:checked~div.sk-toggleable__content {max-height: 200px;max-width: 100%;overflow: auto;}#sk-container-id-2 input.sk-toggleable__control:checked~label.sk-toggleable__label-arrow:before {content: \"▾\";}#sk-container-id-2 div.sk-estimator input.sk-toggleable__control:checked~label.sk-toggleable__label {background-color: #d4ebff;}#sk-container-id-2 div.sk-label input.sk-toggleable__control:checked~label.sk-toggleable__label {background-color: #d4ebff;}#sk-container-id-2 input.sk-hidden--visually {border: 0;clip: rect(1px 1px 1px 1px);clip: rect(1px, 1px, 1px, 1px);height: 1px;margin: -1px;overflow: hidden;padding: 0;position: absolute;width: 1px;}#sk-container-id-2 div.sk-estimator {font-family: monospace;background-color: #f0f8ff;border: 1px dotted black;border-radius: 0.25em;box-sizing: border-box;margin-bottom: 0.5em;}#sk-container-id-2 div.sk-estimator:hover {background-color: #d4ebff;}#sk-container-id-2 div.sk-parallel-item::after {content: \"\";width: 100%;border-bottom: 1px solid gray;flex-grow: 1;}#sk-container-id-2 div.sk-label:hover label.sk-toggleable__label {background-color: #d4ebff;}#sk-container-id-2 div.sk-serial::before {content: \"\";position: absolute;border-left: 1px solid gray;box-sizing: border-box;top: 0;bottom: 0;left: 50%;z-index: 0;}#sk-container-id-2 div.sk-serial {display: flex;flex-direction: column;align-items: center;background-color: white;padding-right: 0.2em;padding-left: 0.2em;position: relative;}#sk-container-id-2 div.sk-item {position: relative;z-index: 1;}#sk-container-id-2 div.sk-parallel {display: flex;align-items: stretch;justify-content: center;background-color: white;position: relative;}#sk-container-id-2 div.sk-item::before, #sk-container-id-2 div.sk-parallel-item::before {content: \"\";position: absolute;border-left: 1px solid gray;box-sizing: border-box;top: 0;bottom: 0;left: 50%;z-index: -1;}#sk-container-id-2 div.sk-parallel-item {display: flex;flex-direction: column;z-index: 1;position: relative;background-color: white;}#sk-container-id-2 div.sk-parallel-item:first-child::after {align-self: flex-end;width: 50%;}#sk-container-id-2 div.sk-parallel-item:last-child::after {align-self: flex-start;width: 50%;}#sk-container-id-2 div.sk-parallel-item:only-child::after {width: 0;}#sk-container-id-2 div.sk-dashed-wrapped {border: 1px dashed gray;margin: 0 0.4em 0.5em 0.4em;box-sizing: border-box;padding-bottom: 0.4em;background-color: white;}#sk-container-id-2 div.sk-label label {font-family: monospace;font-weight: bold;display: inline-block;line-height: 1.2em;}#sk-container-id-2 div.sk-label-container {text-align: center;}#sk-container-id-2 div.sk-container {/* jupyter's `normalize.less` sets `[hidden] { display: none; }` but bootstrap.min.css set `[hidden] { display: none !important; }` so we also need the `!important` here to be able to override the default hidden behavior on the sphinx rendered scikit-learn.org. See: https://github.com/scikit-learn/scikit-learn/issues/21755 */display: inline-block !important;position: relative;}#sk-container-id-2 div.sk-text-repr-fallback {display: none;}</style><div id=\"sk-container-id-2\" class=\"sk-top-container\"><div class=\"sk-text-repr-fallback\"><pre>LinearRegression()</pre><b>In a Jupyter environment, please rerun this cell to show the HTML representation or trust the notebook. <br />On GitHub, the HTML representation is unable to render, please try loading this page with nbviewer.org.</b></div><div class=\"sk-container\" hidden><div class=\"sk-item\"><div class=\"sk-estimator sk-toggleable\"><input class=\"sk-toggleable__control sk-hidden--visually\" id=\"sk-estimator-id-2\" type=\"checkbox\" checked><label for=\"sk-estimator-id-2\" class=\"sk-toggleable__label sk-toggleable__label-arrow\">LinearRegression</label><div class=\"sk-toggleable__content\"><pre>LinearRegression()</pre></div></div></div></div></div>"
      ],
      "text/plain": [
       "LinearRegression()"
      ]
     },
     "execution_count": 8,
     "metadata": {},
     "output_type": "execute_result"
    }
   ],
   "source": [
    "lm.fit(X,Y)"
   ]
  },
  {
   "cell_type": "code",
   "execution_count": 9,
   "id": "5135e6ba",
   "metadata": {},
   "outputs": [
    {
     "data": {
      "text/plain": [
       "array([860.23690437, 862.90284899, 911.77641407, 913.90916976,\n",
       "       891.01847979, 894.75080226, 890.48529087, 923.69954013,\n",
       "       924.76591798, 921.03359551, 952.84532663, 912.94889729,\n",
       "       913.47366123, 912.40728338, 914.00685015, 899.39551604,\n",
       "       888.93607863, 887.86970078, 887.86970078, 885.73694508])"
      ]
     },
     "execution_count": 9,
     "metadata": {},
     "output_type": "execute_result"
    }
   ],
   "source": [
    "Yhat=lm.predict(X)\n",
    "Yhat[0:20] "
   ]
  },
  {
   "cell_type": "code",
   "execution_count": 10,
   "id": "e95a0310",
   "metadata": {},
   "outputs": [
    {
     "data": {
      "text/plain": [
       "166.96234693799272"
      ]
     },
     "execution_count": 10,
     "metadata": {},
     "output_type": "execute_result"
    }
   ],
   "source": [
    "lm.intercept_"
   ]
  },
  {
   "cell_type": "code",
   "execution_count": 11,
   "id": "f7ccd863",
   "metadata": {},
   "outputs": [
    {
     "data": {
      "text/plain": [
       "array([ 5.33188924e+01,  4.01195047e-02, -8.72701379e-01,  4.02216104e-01,\n",
       "        1.29855538e+00])"
      ]
     },
     "execution_count": 11,
     "metadata": {},
     "output_type": "execute_result"
    }
   ],
   "source": [
    "lm.coef_"
   ]
  },
  {
   "cell_type": "code",
   "execution_count": 12,
   "id": "322687d8",
   "metadata": {},
   "outputs": [
    {
     "data": {
      "text/plain": [
       "array([860.23690437, 862.90284899, 911.77641407, 913.90916976,\n",
       "       891.01847979, 894.75080226, 890.48529087, 923.69954013,\n",
       "       924.76591798, 921.03359551])"
      ]
     },
     "execution_count": 12,
     "metadata": {},
     "output_type": "execute_result"
    }
   ],
   "source": [
    "Yhat=lm.predict(X)\n",
    "Yhat[0:10]"
   ]
  },
  {
   "cell_type": "code",
   "execution_count": 13,
   "id": "93e894df",
   "metadata": {},
   "outputs": [
    {
     "name": "stdout",
     "output_type": "stream",
     "text": [
      "Date\n",
      "2024-04-01 00:00:00-04:00    903.630005\n",
      "2024-04-02 00:00:00-04:00    894.520020\n",
      "2024-04-03 00:00:00-04:00    889.640015\n",
      "2024-04-04 00:00:00-04:00    859.049988\n",
      "2024-04-05 00:00:00-04:00    880.080017\n",
      "2024-04-08 00:00:00-04:00    871.330017\n",
      "2024-04-09 00:00:00-04:00    853.539978\n",
      "2024-04-10 00:00:00-04:00    870.390015\n",
      "2024-04-11 00:00:00-04:00    906.159973\n",
      "2024-04-12 00:00:00-04:00    881.859985\n",
      "Name: Close, dtype: float64\n"
     ]
    }
   ],
   "source": [
    "import yfinance as yf\n",
    "\n",
    "# Ticker symbol for NVIDIA\n",
    "ticker = \"NVDA\"\n",
    "\n",
    "# Get the stock data\n",
    "stock = yf.Ticker(ticker)\n",
    "\n",
    "# Get the last 10 trading days' data\n",
    "history = stock.history(period=\"10d\")\n",
    "\n",
    "# Extract the closing prices\n",
    "closing_prices = history[\"Close\"]\n",
    "\n",
    "# Print the closing prices\n",
    "print(closing_prices)"
   ]
  },
  {
   "cell_type": "code",
   "execution_count": 13,
   "id": "125ecfcb",
   "metadata": {},
   "outputs": [
    {
     "name": "stdout",
     "output_type": "stream",
     "text": [
      "Mean Squared Error: 21.51\n",
      "R-squared: 0.92\n"
     ]
    }
   ],
   "source": [
    "import pandas as pd\n",
    "from sklearn.linear_model import LinearRegression\n",
    "from sklearn.metrics import mean_squared_error, r2_score\n",
    "\n",
    "# Load the dataset into a pandas DataFrame\n",
    "data = pd.read_csv('AnalysisofMSinStocks.csv')\n",
    "df = pd.DataFrame(data)\n",
    "\n",
    "df = df.dropna(how='any')\n",
    "\n",
    "# Assign multiple columns as features (X)\n",
    "X = df[['Positive Sentiment Score ', 'Open ', 'High ', 'Low ']]\n",
    "\n",
    "# Assign 'Close ' as the target variable (y)\n",
    "y = df['Close '].values\n",
    "\n",
    "# Fit the linear regression model\n",
    "model = LinearRegression()\n",
    "model.fit(X, y)\n",
    "\n",
    "# Make predictions on the training data\n",
    "y_pred = model.predict(X)\n",
    "\n",
    "# Compute Mean Squared Error (MSE)\n",
    "mse = mean_squared_error(y, y_pred)\n",
    "print(f\"Mean Squared Error: {mse:.2f}\")\n",
    "\n",
    "# Compute R-squared\n",
    "r2 = r2_score(y, y_pred)\n",
    "print(f\"R-squared: {r2:.2f}\")"
   ]
  },
  {
   "cell_type": "code",
   "execution_count": null,
   "id": "b0e6425e",
   "metadata": {},
   "outputs": [],
   "source": []
  }
 ],
 "metadata": {
  "kernelspec": {
   "display_name": "Python 3 (ipykernel)",
   "language": "python",
   "name": "python3"
  },
  "language_info": {
   "codemirror_mode": {
    "name": "ipython",
    "version": 3
   },
   "file_extension": ".py",
   "mimetype": "text/x-python",
   "name": "python",
   "nbconvert_exporter": "python",
   "pygments_lexer": "ipython3",
   "version": "3.11.5"
  }
 },
 "nbformat": 4,
 "nbformat_minor": 5
}
