{
 "cells": [
  {
   "cell_type": "code",
   "execution_count": 1,
   "id": "3250384f",
   "metadata": {},
   "outputs": [
    {
     "name": "stdout",
     "output_type": "stream",
     "text": [
      "                                            Articles  Overall Sentiment   \\\n",
      "0   AXA and AWS Developing the First Global B2B Ri...           Positive   \n",
      "1   Announcing AWS Deadline Cloud, a New Service t...           Positive   \n",
      "2   BrainBox AI Introduces ARIA: The World’s First...           Positive   \n",
      "3   Upstage Launches Small Language Model on AWS t...           Positive   \n",
      "4   Compute for Climate Fellowship Announces Inaug...           Positive   \n",
      "..                                                ...                ...   \n",
      "95  Sumitomo Corporation Selects AWS to Drive Its ...           Positive   \n",
      "96  Occidental Selects AWS as Its Preferred Cloud ...           Positive   \n",
      "97  AWS Announces AWS HealthScribe, a New Generati...           Positive   \n",
      "98  AWS Announces the General Availability of AWS ...           Positive   \n",
      "99  AWS Expands Amazon Bedrock With Additional Fou...           Positive   \n",
      "\n",
      "    Positive Sentiment Score   Negative Sentiment Score   \\\n",
      "0                        0.15                       0.06   \n",
      "1                        0.11                       0.02   \n",
      "2                        0.19                       0.01   \n",
      "3                        0.14                       0.01   \n",
      "4                        0.16                       0.02   \n",
      "..                        ...                        ...   \n",
      "95                       0.12                       0.01   \n",
      "96                       0.20                       0.01   \n",
      "97                       0.14                       0.02   \n",
      "98                       0.17                       0.02   \n",
      "99                       0.16                       0.01   \n",
      "\n",
      "    Neutral Sentiment Score   Amount in Dollars Change in MC  \\\n",
      "0                       0.79                        5.070007   \n",
      "1                       0.87                        1.720001   \n",
      "2                       0.80                        1.529999   \n",
      "3                       0.86                        0.720001   \n",
      "4                       0.82                        0.720001   \n",
      "..                       ...                             ...   \n",
      "95                      0.87                       -1.989990   \n",
      "96                      0.79                        3.960007   \n",
      "97                      0.84                        0.100006   \n",
      "98                      0.81                        0.100006   \n",
      "99                      0.83                        0.100006   \n",
      "\n",
      "   Percentage Change inMC       Date    Open    High     Low   Close   \n",
      "0                    2.82%   4/4/2024  184.00  185.10  180.00  180.00  \n",
      "1                    0.95%   4/2/2024  179.07  180.79  178.38  180.69  \n",
      "2                    0.86%  3/26/2024  180.15  180.45  177.95  178.30  \n",
      "3                    0.40%  3/21/2024  179.99  181.42  178.15  178.15  \n",
      "4                    0.40%  3/21/2024  179.99  181.42  178.15  178.15  \n",
      "..                     ...        ...     ...     ...     ...     ...  \n",
      "95                  -1.49%  7/31/2023  133.20  133.87  132.38  133.68  \n",
      "96                   3.09%  7/27/2023  131.00  132.63  127.79  128.25  \n",
      "97                   0.08%  7/26/2023  126.51  129.08  126.11  128.15  \n",
      "98                   0.08%  7/26/2023  126.51  129.08  126.11  128.15  \n",
      "99                   0.08%  7/26/2023  126.51  129.08  126.11  128.15  \n",
      "\n",
      "[100 rows x 12 columns]\n"
     ]
    }
   ],
   "source": [
    "import pandas as pd\n",
    "\n",
    "# Replace 'Analysis.csv' with the actual file path\n",
    "filename = 'Amazon Analysis.csv'\n",
    "\n",
    "# Read the CSV file into a pandas DataFrame\n",
    "df = pd.read_csv(filename)\n",
    "\n",
    "# Display the DataFrame\n",
    "print(df)"
   ]
  },
  {
   "cell_type": "code",
   "execution_count": 2,
   "id": "1a83f8ef",
   "metadata": {},
   "outputs": [],
   "source": [
    "df = df.dropna(how='any')"
   ]
  },
  {
   "cell_type": "code",
   "execution_count": 3,
   "id": "a36ac7ef",
   "metadata": {},
   "outputs": [
    {
     "name": "stdout",
     "output_type": "stream",
     "text": [
      "['Articles ', 'Overall Sentiment ', 'Positive Sentiment Score ', 'Negative Sentiment Score ', 'Neutral Sentiment Score ', 'Amount in Dollars Change in MC', 'Percentage Change inMC ', 'Date ', 'Open ', 'High ', 'Low ', 'Close ']\n"
     ]
    }
   ],
   "source": [
    "import pandas as pd\n",
    "\n",
    "# Assuming you have a DataFrame named df\n",
    "column_names = df.columns.tolist()\n",
    "print(column_names)"
   ]
  },
  {
   "cell_type": "code",
   "execution_count": 4,
   "id": "5c721ec7",
   "metadata": {},
   "outputs": [],
   "source": [
    "from sklearn.linear_model import LinearRegression"
   ]
  },
  {
   "cell_type": "code",
   "execution_count": 5,
   "id": "10bb5572",
   "metadata": {},
   "outputs": [
    {
     "name": "stdout",
     "output_type": "stream",
     "text": [
      "    Positive Sentiment Score   Negative Sentiment Score   Neutral Sentiment Score   Amount in Dollars Change in MC   Open    High     Low   Close \n",
      "0                        0.15                       0.06                      0.79                        5.070007  184.00  185.10  180.00  180.00\n",
      "1                        0.11                       0.02                      0.87                        1.720001  179.07  180.79  178.38  180.69\n",
      "2                        0.19                       0.01                      0.80                        1.529999  180.15  180.45  177.95  178.30\n",
      "3                        0.14                       0.01                      0.86                        0.720001  179.99  181.42  178.15  178.15\n",
      "4                        0.16                       0.02                      0.82                        0.720001  179.99  181.42  178.15  178.15\n",
      "5                        0.14                       0.00                      0.86                        0.000000  176.14  178.53  174.64  178.15\n",
      "6                        0.17                       0.00                      0.83                        0.000000  176.14  178.53  174.64  178.15\n",
      "7                        0.12                       0.01                      0.88                        1.419998  175.80  176.69  174.28  174.48\n",
      "8                        0.18                       0.01                      0.81                       -3.460007  177.53  180.14  177.49  177.58\n",
      "9                        0.12                       0.03                      0.84                       -1.190002  175.70  176.37  174.26  174.73\n",
      "10                       0.18                       0.01                      0.81                       -1.190002  175.70  176.37  174.26  174.73\n",
      "11                       0.17                       0.01                      0.83                        4.610001  169.65  171.43  168.88  169.84\n",
      "12                       0.12                       0.00                      0.88                       -2.259995  159.34  161.29  158.90  161.26\n",
      "13                       0.23                       0.03                      0.73                       -2.259995  159.34  161.29  158.90  161.26\n",
      "14                       0.14                       0.01                      0.84                       -0.559998  153.83  155.76  152.74  155.34\n",
      "15                       0.13                       0.00                      0.87                        1.449997  152.06  154.42  151.88  153.73\n",
      "16                       0.16                       0.02                      0.82                        2.269989  146.74  149.40  146.15  149.10\n",
      "17                       0.18                       0.02                      0.81                        1.720001  152.90  155.63  151.56  152.12\n",
      "18                       0.16                       0.01                      0.82                        0.940002  144.76  146.93  144.33  146.09\n",
      "19                       0.12                       0.01                      0.88                        0.940002  144.76  146.93  144.33  146.09\n",
      "20                       0.16                       0.01                      0.83                        0.940002  144.76  146.93  144.33  146.09\n",
      "21                       0.21                       0.01                      0.78                       -0.230011  147.85  148.54  145.97  146.32\n",
      "22                       0.16                       0.02                      0.82                       -0.230011  147.85  148.54  145.97  146.32\n",
      "23                       0.15                       0.03                      0.83                       -0.230011  147.85  148.54  145.97  146.32\n",
      "24                       0.16                       0.01                      0.84                       -0.230011  147.85  148.54  145.97  146.32\n",
      "25                       0.12                       0.01                      0.87                       -0.230011  147.85  148.54  145.97  146.32\n",
      "26                       0.14                       0.01                      0.85                       -0.230011  147.85  148.54  145.97  146.32\n",
      "27                       0.15                       0.01                      0.83                       -0.230011  147.85  148.54  145.97  146.32\n",
      "28                       0.17                       0.01                      0.83                       -0.230011  147.85  148.54  145.97  146.32\n",
      "29                       0.17                       0.00                      0.83                       -0.230011  147.85  148.54  145.97  146.32\n",
      "30                       0.17                       0.02                      0.81                       -0.709991  146.98  147.60  145.53  147.03\n",
      "31                       0.16                       0.02                      0.82                       -0.709991  146.98  147.60  145.53  147.03\n",
      "32                       0.11                       0.03                      0.86                       -0.709991  146.98  147.60  145.53  147.03\n",
      "33                       0.15                       0.01                      0.84                       -0.709991  146.98  147.60  145.53  147.03\n",
      "34                       0.11                       0.01                      0.89                       -0.709991  146.98  147.60  145.53  147.03\n",
      "35                       0.11                       0.00                      0.88                       -0.709991  146.98  147.60  145.53  147.03\n",
      "36                       0.15                       0.02                      0.83                       -0.709991  146.98  147.60  145.53  147.03\n",
      "37                       0.21                       0.02                      0.77                       -0.709991  146.98  147.60  145.53  147.03\n",
      "38                       0.12                       0.01                      0.86                       -0.709991  146.98  147.60  145.53  147.03\n",
      "39                       0.13                       0.02                      0.84                       -0.709991  146.98  147.60  145.53  147.03\n",
      "40                       0.18                       0.01                      0.81                       -0.709991  146.98  147.60  145.53  147.03\n",
      "41                       0.12                       0.01                      0.87                       -0.699997  147.53  149.26  146.88  147.73\n",
      "42                       0.15                       0.02                      0.83                       -0.699997  147.53  149.26  146.88  147.73\n",
      "43                       0.14                       0.01                      0.85                       -0.699997  147.53  149.26  146.88  147.73\n",
      "44                       0.16                       0.01                      0.83                       -0.699997  147.53  149.26  146.88  147.73\n",
      "45                       0.14                       0.01                      0.84                       -0.699997  147.53  149.26  146.88  147.73\n",
      "46                       0.17                       0.02                      0.81                       -0.699997  147.53  149.26  146.88  147.73\n",
      "47                       0.15                       0.00                      0.84                       -0.699997  147.53  149.26  146.88  147.73\n",
      "48                       0.12                       0.00                      0.88                       -0.699997  147.53  149.26  146.88  147.73\n",
      "49                       0.20                       0.02                      0.78                       -0.699997  147.53  149.26  146.88  147.73\n",
      "50                       0.16                       0.01                      0.83                       -2.230011  145.13  146.63  144.73  146.13\n",
      "51                       0.15                       0.02                      0.83                       -2.230011  145.13  146.63  144.73  146.13\n",
      "52                       0.15                       0.03                      0.82                       -2.230011  145.13  146.63  144.73  146.13\n",
      "53                       0.15                       0.03                      0.82                       -2.230011  145.13  146.63  144.73  146.13\n",
      "54                       0.14                       0.01                      0.85                        2.349991  140.91  143.32  139.52  142.83\n",
      "55                       0.24                       0.07                      0.69                       -0.369995  147.06  147.29  142.59  143.20\n",
      "56                       0.16                       0.04                      0.80                       -0.369995  147.06  147.29  142.59  143.20\n",
      "57                       0.16                       0.03                      0.81                       -2.600006  145.00  147.26  144.68  145.80\n",
      "58                       0.15                       0.01                      0.84                       -2.600006  145.00  147.26  144.68  145.80\n",
      "59                       0.19                       0.01                      0.80                       -2.600006  145.00  147.26  144.68  145.80\n",
      "60                       0.24                       0.00                      0.76                        2.959991  142.02  142.65  139.84  140.60\n",
      "61                       0.22                       0.01                      0.77                       -1.479996  142.97  143.12  141.22  142.08\n",
      "62                       0.20                       0.01                      0.79                       -0.630005  140.55  143.37  140.50  142.71\n",
      "63                       0.25                       0.00                      0.75                       -0.630005  140.55  143.37  140.50  142.71\n",
      "64                       0.16                       0.01                      0.83                        2.970001  138.76  140.73  138.36  139.74\n",
      "65                       0.22                       0.03                      0.76                        0.529999  138.73  138.81  136.47  138.07\n",
      "66                       0.07                       0.02                      0.80                        0.529999  138.73  138.81  136.47  138.07\n",
      "67                       0.11                       0.03                      0.86                        3.910004  132.75  133.57  131.71  133.09\n",
      "68                       0.12                       0.01                      0.87                       -1.820000  126.04  126.34  120.79  121.39\n",
      "69                       0.19                       0.01                      0.81                       -7.169998  127.74  128.80  126.34  128.56\n",
      "70                       0.16                       0.11                      0.73                        2.000000  124.63  127.88  123.98  126.56\n",
      "71                       0.19                       0.10                      0.71                       -3.339996  130.39  132.58  128.71  131.47\n",
      "72                       0.17                       0.01                      0.82                       -2.540009  132.17  134.48  131.23  132.33\n",
      "73                       0.21                       0.01                      0.79                        2.000000  126.71  126.73  124.33  125.96\n",
      "74                       0.15                       0.01                      0.84                       -1.040001  126.06  127.36  125.68  127.00\n",
      "75                       0.18                       0.01                      0.81                        1.139999  124.04  126.58  123.04  125.98\n",
      "76                       0.12                       0.00                      0.87                        0.000000  130.12  130.39  125.28  125.98\n",
      "77                       0.17                       0.01                      0.82                       -5.290001  129.36  131.78  128.77  131.27\n",
      "78                       0.15                       0.10                      0.75                       -5.959991  138.55  139.37  135.20  135.29\n",
      "79                       0.18                       0.01                      0.81                       -5.959991  138.55  139.37  135.20  135.29\n",
      "80                       0.13                       0.00                      0.86                       -5.959991  138.55  139.37  135.20  135.29\n",
      "81                       0.20                       0.01                      0.79                       -2.340012  138.70  138.84  135.56  137.63\n",
      "82                       0.11                       0.03                      0.86                       -2.340012  138.70  138.84  135.56  137.63\n",
      "83                       0.17                       0.00                      0.83                       -2.340012  138.70  138.84  135.56  137.63\n",
      "84                       0.17                       0.01                      0.81                       -2.349991  140.48  141.75  139.22  139.98\n",
      "85                       0.15                       0.01                      0.84                       -0.130005  140.95  144.98  140.87  144.85\n",
      "86                       0.15                       0.01                      0.83                        3.620010  142.32  143.00  140.61  141.23\n",
      "87                       0.12                       0.01                      0.87                        3.620010  142.32  143.00  140.61  141.23\n",
      "88                       0.12                       0.09                      0.80                        2.490005  136.32  137.45  134.61  135.36\n",
      "89                       0.15                       0.01                      0.84                       -1.910004  137.73  137.80  135.82  137.27\n",
      "90                       0.17                       0.01                      0.83                        2.939987  134.93  135.68  133.92  135.07\n",
      "91                       0.15                       0.01                      0.85                        0.160004  133.38  135.14  133.25  134.91\n",
      "92                       0.12                       0.01                      0.86                        1.419998  136.40  136.78  131.83  131.84\n",
      "93                       0.11                       0.00                      0.89                        0.709991  139.97  140.32  137.10  137.85\n",
      "94                       0.17                       0.01                      0.82                       -3.479996  133.55  133.69  131.62  131.69\n",
      "95                       0.12                       0.01                      0.87                       -1.989990  133.20  133.87  132.38  133.68\n",
      "96                       0.20                       0.01                      0.79                        3.960007  131.00  132.63  127.79  128.25\n",
      "97                       0.14                       0.02                      0.84                        0.100006  126.51  129.08  126.11  128.15\n",
      "98                       0.17                       0.02                      0.81                        0.100006  126.51  129.08  126.11  128.15\n",
      "99                       0.16                       0.01                      0.83                        0.100006  126.51  129.08  126.11  128.15\n"
     ]
    }
   ],
   "source": [
    "# Now to only use numeric data \n",
    "df=df._get_numeric_data()\n",
    "print(df.to_string())\n"
   ]
  },
  {
   "cell_type": "code",
   "execution_count": 6,
   "id": "b27ffff8",
   "metadata": {},
   "outputs": [
    {
     "data": {
      "text/html": [
       "<style>#sk-container-id-1 {color: black;}#sk-container-id-1 pre{padding: 0;}#sk-container-id-1 div.sk-toggleable {background-color: white;}#sk-container-id-1 label.sk-toggleable__label {cursor: pointer;display: block;width: 100%;margin-bottom: 0;padding: 0.3em;box-sizing: border-box;text-align: center;}#sk-container-id-1 label.sk-toggleable__label-arrow:before {content: \"▸\";float: left;margin-right: 0.25em;color: #696969;}#sk-container-id-1 label.sk-toggleable__label-arrow:hover:before {color: black;}#sk-container-id-1 div.sk-estimator:hover label.sk-toggleable__label-arrow:before {color: black;}#sk-container-id-1 div.sk-toggleable__content {max-height: 0;max-width: 0;overflow: hidden;text-align: left;background-color: #f0f8ff;}#sk-container-id-1 div.sk-toggleable__content pre {margin: 0.2em;color: black;border-radius: 0.25em;background-color: #f0f8ff;}#sk-container-id-1 input.sk-toggleable__control:checked~div.sk-toggleable__content {max-height: 200px;max-width: 100%;overflow: auto;}#sk-container-id-1 input.sk-toggleable__control:checked~label.sk-toggleable__label-arrow:before {content: \"▾\";}#sk-container-id-1 div.sk-estimator input.sk-toggleable__control:checked~label.sk-toggleable__label {background-color: #d4ebff;}#sk-container-id-1 div.sk-label input.sk-toggleable__control:checked~label.sk-toggleable__label {background-color: #d4ebff;}#sk-container-id-1 input.sk-hidden--visually {border: 0;clip: rect(1px 1px 1px 1px);clip: rect(1px, 1px, 1px, 1px);height: 1px;margin: -1px;overflow: hidden;padding: 0;position: absolute;width: 1px;}#sk-container-id-1 div.sk-estimator {font-family: monospace;background-color: #f0f8ff;border: 1px dotted black;border-radius: 0.25em;box-sizing: border-box;margin-bottom: 0.5em;}#sk-container-id-1 div.sk-estimator:hover {background-color: #d4ebff;}#sk-container-id-1 div.sk-parallel-item::after {content: \"\";width: 100%;border-bottom: 1px solid gray;flex-grow: 1;}#sk-container-id-1 div.sk-label:hover label.sk-toggleable__label {background-color: #d4ebff;}#sk-container-id-1 div.sk-serial::before {content: \"\";position: absolute;border-left: 1px solid gray;box-sizing: border-box;top: 0;bottom: 0;left: 50%;z-index: 0;}#sk-container-id-1 div.sk-serial {display: flex;flex-direction: column;align-items: center;background-color: white;padding-right: 0.2em;padding-left: 0.2em;position: relative;}#sk-container-id-1 div.sk-item {position: relative;z-index: 1;}#sk-container-id-1 div.sk-parallel {display: flex;align-items: stretch;justify-content: center;background-color: white;position: relative;}#sk-container-id-1 div.sk-item::before, #sk-container-id-1 div.sk-parallel-item::before {content: \"\";position: absolute;border-left: 1px solid gray;box-sizing: border-box;top: 0;bottom: 0;left: 50%;z-index: -1;}#sk-container-id-1 div.sk-parallel-item {display: flex;flex-direction: column;z-index: 1;position: relative;background-color: white;}#sk-container-id-1 div.sk-parallel-item:first-child::after {align-self: flex-end;width: 50%;}#sk-container-id-1 div.sk-parallel-item:last-child::after {align-self: flex-start;width: 50%;}#sk-container-id-1 div.sk-parallel-item:only-child::after {width: 0;}#sk-container-id-1 div.sk-dashed-wrapped {border: 1px dashed gray;margin: 0 0.4em 0.5em 0.4em;box-sizing: border-box;padding-bottom: 0.4em;background-color: white;}#sk-container-id-1 div.sk-label label {font-family: monospace;font-weight: bold;display: inline-block;line-height: 1.2em;}#sk-container-id-1 div.sk-label-container {text-align: center;}#sk-container-id-1 div.sk-container {/* jupyter's `normalize.less` sets `[hidden] { display: none; }` but bootstrap.min.css set `[hidden] { display: none !important; }` so we also need the `!important` here to be able to override the default hidden behavior on the sphinx rendered scikit-learn.org. See: https://github.com/scikit-learn/scikit-learn/issues/21755 */display: inline-block !important;position: relative;}#sk-container-id-1 div.sk-text-repr-fallback {display: none;}</style><div id=\"sk-container-id-1\" class=\"sk-top-container\"><div class=\"sk-text-repr-fallback\"><pre>LinearRegression()</pre><b>In a Jupyter environment, please rerun this cell to show the HTML representation or trust the notebook. <br />On GitHub, the HTML representation is unable to render, please try loading this page with nbviewer.org.</b></div><div class=\"sk-container\" hidden><div class=\"sk-item\"><div class=\"sk-estimator sk-toggleable\"><input class=\"sk-toggleable__control sk-hidden--visually\" id=\"sk-estimator-id-1\" type=\"checkbox\" checked><label for=\"sk-estimator-id-1\" class=\"sk-toggleable__label sk-toggleable__label-arrow\">LinearRegression</label><div class=\"sk-toggleable__content\"><pre>LinearRegression()</pre></div></div></div></div></div>"
      ],
      "text/plain": [
       "LinearRegression()"
      ]
     },
     "execution_count": 6,
     "metadata": {},
     "output_type": "execute_result"
    }
   ],
   "source": [
    "lm = LinearRegression()\n",
    "lm"
   ]
  },
  {
   "cell_type": "code",
   "execution_count": 8,
   "id": "b05f8b71",
   "metadata": {},
   "outputs": [],
   "source": [
    "X = df[['Positive Sentiment Score ','Amount in Dollars Change in MC','Open ','High ','Low ']]\n",
    "Y = df['Close ']"
   ]
  },
  {
   "cell_type": "code",
   "execution_count": 9,
   "id": "ba9dad3d",
   "metadata": {},
   "outputs": [
    {
     "data": {
      "text/html": [
       "<style>#sk-container-id-2 {color: black;}#sk-container-id-2 pre{padding: 0;}#sk-container-id-2 div.sk-toggleable {background-color: white;}#sk-container-id-2 label.sk-toggleable__label {cursor: pointer;display: block;width: 100%;margin-bottom: 0;padding: 0.3em;box-sizing: border-box;text-align: center;}#sk-container-id-2 label.sk-toggleable__label-arrow:before {content: \"▸\";float: left;margin-right: 0.25em;color: #696969;}#sk-container-id-2 label.sk-toggleable__label-arrow:hover:before {color: black;}#sk-container-id-2 div.sk-estimator:hover label.sk-toggleable__label-arrow:before {color: black;}#sk-container-id-2 div.sk-toggleable__content {max-height: 0;max-width: 0;overflow: hidden;text-align: left;background-color: #f0f8ff;}#sk-container-id-2 div.sk-toggleable__content pre {margin: 0.2em;color: black;border-radius: 0.25em;background-color: #f0f8ff;}#sk-container-id-2 input.sk-toggleable__control:checked~div.sk-toggleable__content {max-height: 200px;max-width: 100%;overflow: auto;}#sk-container-id-2 input.sk-toggleable__control:checked~label.sk-toggleable__label-arrow:before {content: \"▾\";}#sk-container-id-2 div.sk-estimator input.sk-toggleable__control:checked~label.sk-toggleable__label {background-color: #d4ebff;}#sk-container-id-2 div.sk-label input.sk-toggleable__control:checked~label.sk-toggleable__label {background-color: #d4ebff;}#sk-container-id-2 input.sk-hidden--visually {border: 0;clip: rect(1px 1px 1px 1px);clip: rect(1px, 1px, 1px, 1px);height: 1px;margin: -1px;overflow: hidden;padding: 0;position: absolute;width: 1px;}#sk-container-id-2 div.sk-estimator {font-family: monospace;background-color: #f0f8ff;border: 1px dotted black;border-radius: 0.25em;box-sizing: border-box;margin-bottom: 0.5em;}#sk-container-id-2 div.sk-estimator:hover {background-color: #d4ebff;}#sk-container-id-2 div.sk-parallel-item::after {content: \"\";width: 100%;border-bottom: 1px solid gray;flex-grow: 1;}#sk-container-id-2 div.sk-label:hover label.sk-toggleable__label {background-color: #d4ebff;}#sk-container-id-2 div.sk-serial::before {content: \"\";position: absolute;border-left: 1px solid gray;box-sizing: border-box;top: 0;bottom: 0;left: 50%;z-index: 0;}#sk-container-id-2 div.sk-serial {display: flex;flex-direction: column;align-items: center;background-color: white;padding-right: 0.2em;padding-left: 0.2em;position: relative;}#sk-container-id-2 div.sk-item {position: relative;z-index: 1;}#sk-container-id-2 div.sk-parallel {display: flex;align-items: stretch;justify-content: center;background-color: white;position: relative;}#sk-container-id-2 div.sk-item::before, #sk-container-id-2 div.sk-parallel-item::before {content: \"\";position: absolute;border-left: 1px solid gray;box-sizing: border-box;top: 0;bottom: 0;left: 50%;z-index: -1;}#sk-container-id-2 div.sk-parallel-item {display: flex;flex-direction: column;z-index: 1;position: relative;background-color: white;}#sk-container-id-2 div.sk-parallel-item:first-child::after {align-self: flex-end;width: 50%;}#sk-container-id-2 div.sk-parallel-item:last-child::after {align-self: flex-start;width: 50%;}#sk-container-id-2 div.sk-parallel-item:only-child::after {width: 0;}#sk-container-id-2 div.sk-dashed-wrapped {border: 1px dashed gray;margin: 0 0.4em 0.5em 0.4em;box-sizing: border-box;padding-bottom: 0.4em;background-color: white;}#sk-container-id-2 div.sk-label label {font-family: monospace;font-weight: bold;display: inline-block;line-height: 1.2em;}#sk-container-id-2 div.sk-label-container {text-align: center;}#sk-container-id-2 div.sk-container {/* jupyter's `normalize.less` sets `[hidden] { display: none; }` but bootstrap.min.css set `[hidden] { display: none !important; }` so we also need the `!important` here to be able to override the default hidden behavior on the sphinx rendered scikit-learn.org. See: https://github.com/scikit-learn/scikit-learn/issues/21755 */display: inline-block !important;position: relative;}#sk-container-id-2 div.sk-text-repr-fallback {display: none;}</style><div id=\"sk-container-id-2\" class=\"sk-top-container\"><div class=\"sk-text-repr-fallback\"><pre>LinearRegression()</pre><b>In a Jupyter environment, please rerun this cell to show the HTML representation or trust the notebook. <br />On GitHub, the HTML representation is unable to render, please try loading this page with nbviewer.org.</b></div><div class=\"sk-container\" hidden><div class=\"sk-item\"><div class=\"sk-estimator sk-toggleable\"><input class=\"sk-toggleable__control sk-hidden--visually\" id=\"sk-estimator-id-2\" type=\"checkbox\" checked><label for=\"sk-estimator-id-2\" class=\"sk-toggleable__label sk-toggleable__label-arrow\">LinearRegression</label><div class=\"sk-toggleable__content\"><pre>LinearRegression()</pre></div></div></div></div></div>"
      ],
      "text/plain": [
       "LinearRegression()"
      ]
     },
     "execution_count": 9,
     "metadata": {},
     "output_type": "execute_result"
    }
   ],
   "source": [
    "lm.fit(X,Y)"
   ]
  },
  {
   "cell_type": "code",
   "execution_count": 10,
   "id": "3bd73c0d",
   "metadata": {},
   "outputs": [
    {
     "data": {
      "text/plain": [
       "array([180.4671562 , 179.49109418, 178.24205942, 179.00212768,\n",
       "       178.99220644, 175.99930201, 175.98442016, 174.98680828,\n",
       "       179.02918422, 174.8715856 , 174.8418219 , 170.1127973 ,\n",
       "       160.38504164, 160.33047485, 154.22647528, 153.67038958,\n",
       "       148.09598858, 153.37840642, 146.09526235, 146.11510482])"
      ]
     },
     "execution_count": 10,
     "metadata": {},
     "output_type": "execute_result"
    }
   ],
   "source": [
    "Yhat=lm.predict(X)\n",
    "Yhat[0:20] "
   ]
  },
  {
   "cell_type": "code",
   "execution_count": 11,
   "id": "6a2b492e",
   "metadata": {},
   "outputs": [
    {
     "data": {
      "text/plain": [
       "2.8435511289468423"
      ]
     },
     "execution_count": 11,
     "metadata": {},
     "output_type": "execute_result"
    }
   ],
   "source": [
    "lm.intercept_"
   ]
  },
  {
   "cell_type": "code",
   "execution_count": 12,
   "id": "2bd7b021",
   "metadata": {},
   "outputs": [
    {
     "data": {
      "text/plain": [
       "array([-0.49606174,  0.00212365, -0.54620679,  0.44547712,  1.08739713])"
      ]
     },
     "execution_count": 12,
     "metadata": {},
     "output_type": "execute_result"
    }
   ],
   "source": [
    "lm.coef_"
   ]
  },
  {
   "cell_type": "code",
   "execution_count": 13,
   "id": "146fdb31",
   "metadata": {},
   "outputs": [
    {
     "data": {
      "text/plain": [
       "array([180.4671562 , 179.49109418, 178.24205942, 179.00212768,\n",
       "       178.99220644, 175.99930201, 175.98442016, 174.98680828,\n",
       "       179.02918422, 174.8715856 ])"
      ]
     },
     "execution_count": 13,
     "metadata": {},
     "output_type": "execute_result"
    }
   ],
   "source": [
    "Yhat=lm.predict(X)\n",
    "Yhat[0:10]"
   ]
  },
  {
   "cell_type": "code",
   "execution_count": 14,
   "id": "0a6697ac",
   "metadata": {},
   "outputs": [
    {
     "name": "stdout",
     "output_type": "stream",
     "text": [
      "Date\n",
      "2024-04-08 00:00:00-04:00    185.190002\n",
      "2024-04-09 00:00:00-04:00    185.669998\n",
      "2024-04-10 00:00:00-04:00    185.949997\n",
      "2024-04-11 00:00:00-04:00    189.050003\n",
      "2024-04-12 00:00:00-04:00    186.130005\n",
      "2024-04-15 00:00:00-04:00    183.619995\n",
      "2024-04-16 00:00:00-04:00    183.320007\n",
      "2024-04-17 00:00:00-04:00    181.279999\n",
      "2024-04-18 00:00:00-04:00    179.220001\n",
      "2024-04-19 00:00:00-04:00    174.630005\n",
      "Name: Close, dtype: float64\n"
     ]
    }
   ],
   "source": [
    "import yfinance as yf\n",
    "\n",
    "# Ticker symbol for Amazon\n",
    "ticker = \"AMZN\"\n",
    "\n",
    "# Get the stock data\n",
    "stock = yf.Ticker(ticker)\n",
    "\n",
    "# Get the last 10 trading days' data\n",
    "history = stock.history(period=\"10d\")\n",
    "\n",
    "# Extract the closing prices\n",
    "closing_prices = history[\"Close\"]\n",
    "\n",
    "# Print the closing prices\n",
    "print(closing_prices)"
   ]
  },
  {
   "cell_type": "code",
   "execution_count": 15,
   "id": "0a70c0ef",
   "metadata": {},
   "outputs": [
    {
     "name": "stdout",
     "output_type": "stream",
     "text": [
      "Mean Squared Error: 0.53\n",
      "R-squared: 1.00\n"
     ]
    }
   ],
   "source": [
    "import pandas as pd\n",
    "from sklearn.linear_model import LinearRegression\n",
    "from sklearn.metrics import mean_squared_error, r2_score\n",
    "\n",
    "# Load the dataset into a pandas DataFrame\n",
    "data = pd.read_csv('Amazon Analysis.csv')\n",
    "df = pd.DataFrame(data)\n",
    "\n",
    "df = df.dropna(how='any')\n",
    "\n",
    "# Assign multiple columns as features (X)\n",
    "X = df[['Positive Sentiment Score ', 'Open ', 'High ', 'Low ']]\n",
    "\n",
    "# Assign 'Close ' as the target variable (y)\n",
    "y = df['Close '].values\n",
    "\n",
    "# Fit the linear regression model\n",
    "model = LinearRegression()\n",
    "model.fit(X, y)\n",
    "\n",
    "# Make predictions on the training data\n",
    "y_pred = model.predict(X)\n",
    "\n",
    "# Compute Mean Squared Error (MSE)\n",
    "mse = mean_squared_error(y, y_pred)\n",
    "print(f\"Mean Squared Error: {mse:.2f}\")\n",
    "\n",
    "# Compute R-squared\n",
    "r2 = r2_score(y, y_pred)\n",
    "print(f\"R-squared: {r2:.2f}\")"
   ]
  },
  {
   "cell_type": "code",
   "execution_count": null,
   "id": "930b39e5",
   "metadata": {},
   "outputs": [],
   "source": []
  }
 ],
 "metadata": {
  "kernelspec": {
   "display_name": "Python 3 (ipykernel)",
   "language": "python",
   "name": "python3"
  },
  "language_info": {
   "codemirror_mode": {
    "name": "ipython",
    "version": 3
   },
   "file_extension": ".py",
   "mimetype": "text/x-python",
   "name": "python",
   "nbconvert_exporter": "python",
   "pygments_lexer": "ipython3",
   "version": "3.11.5"
  }
 },
 "nbformat": 4,
 "nbformat_minor": 5
}
