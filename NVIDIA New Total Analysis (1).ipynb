{
 "cells": [
  {
   "cell_type": "code",
   "execution_count": 1,
   "id": "eae07669",
   "metadata": {},
   "outputs": [
    {
     "name": "stdout",
     "output_type": "stream",
     "text": [
      "                                             Articles  Overall Sentiment   \\\n",
      "0    A New Lens: Dotlumen CEO Cornel Amariei on Ass...           Positive   \n",
      "1    Coming Up ACEs: Decoding the AI Technology Tha...           Positive   \n",
      "2    Greater Scope: Doctors Get Inside Look at Gut ...           Positive   \n",
      "3                 Get Cozy With ‘Palia’ on GeForce NOW           Positive   \n",
      "4    NVIDIA Hopper Leaps Ahead in Generative AI at ...           Positive   \n",
      "..                                                 ...                ...   \n",
      "338                                                NaN                NaN   \n",
      "339                                                NaN                NaN   \n",
      "340                                                NaN                NaN   \n",
      "341                                                NaN                NaN   \n",
      "342                                                NaN                NaN   \n",
      "\n",
      "     Positive Sentiment Score   Negative Sentiment Score   \\\n",
      "0                         0.07                       0.00   \n",
      "1                         0.12                       0.01   \n",
      "2                         0.09                       0.02   \n",
      "3                         0.13                       0.01   \n",
      "4                         0.08                       0.01   \n",
      "..                         ...                        ...   \n",
      "338                        NaN                        NaN   \n",
      "339                        NaN                        NaN   \n",
      "340                        NaN                        NaN   \n",
      "341                        NaN                        NaN   \n",
      "342                        NaN                        NaN   \n",
      "\n",
      "     Neutral Sentiment Score  Percentage Change in MC  \\\n",
      "0                        0.93                  -3.44%   \n",
      "1                        0.88                  -3.44%   \n",
      "2                        0.89                   0.01%   \n",
      "3                        0.87                   0.01%   \n",
      "4                        0.91                   0.12%   \n",
      "..                        ...                     ...   \n",
      "338                       NaN                     NaN   \n",
      "339                       NaN                     NaN   \n",
      "340                       NaN                     NaN   \n",
      "341                       NaN                     NaN   \n",
      "342                       NaN                     NaN   \n",
      "\n",
      "     Amount in Dollars Change inMC       Date    Open    High     Low   Close   \n",
      "0                        -30.590027   4/3/2024  904.06  906.34  858.80  859.05  \n",
      "1                        -30.590027   4/3/2024  904.06  906.34  858.80  859.05  \n",
      "2                          0.070007  3/28/2024  900.00  913.00  891.93  903.56  \n",
      "3                          0.070007  3/29/2024  900.00  913.00  891.93  903.56  \n",
      "4                          1.059998  3/27/2024  931.12  932.40  891.23  902.50  \n",
      "..                              ...        ...     ...     ...     ...     ...  \n",
      "338                             NaN        NaN     NaN     NaN     NaN     NaN  \n",
      "339                             NaN        NaN     NaN     NaN     NaN     NaN  \n",
      "340                             NaN        NaN     NaN     NaN     NaN     NaN  \n",
      "341                             NaN        NaN     NaN     NaN     NaN     NaN  \n",
      "342                             NaN        NaN     NaN     NaN     NaN     NaN  \n",
      "\n",
      "[343 rows x 12 columns]\n"
     ]
    }
   ],
   "source": [
    "import pandas as pd\n",
    "\n",
    "# Replace 'Analysis.csv' with the actual file path\n",
    "filename = 'AnalysisofMSinStocks.csv'\n",
    "\n",
    "# Read the CSV file into a pandas DataFrame\n",
    "df = pd.read_csv(filename)\n",
    "\n",
    "# Display the DataFrame\n",
    "print(df)"
   ]
  },
  {
   "cell_type": "code",
   "execution_count": 2,
   "id": "dfbff813",
   "metadata": {},
   "outputs": [
    {
     "data": {
      "text/html": [
       "<div>\n",
       "<style scoped>\n",
       "    .dataframe tbody tr th:only-of-type {\n",
       "        vertical-align: middle;\n",
       "    }\n",
       "\n",
       "    .dataframe tbody tr th {\n",
       "        vertical-align: top;\n",
       "    }\n",
       "\n",
       "    .dataframe thead th {\n",
       "        text-align: right;\n",
       "    }\n",
       "</style>\n",
       "<table border=\"1\" class=\"dataframe\">\n",
       "  <thead>\n",
       "    <tr style=\"text-align: right;\">\n",
       "      <th></th>\n",
       "      <th>Articles</th>\n",
       "      <th>Overall Sentiment</th>\n",
       "      <th>Positive Sentiment Score</th>\n",
       "      <th>Negative Sentiment Score</th>\n",
       "      <th>Neutral Sentiment Score</th>\n",
       "      <th>Percentage Change in MC</th>\n",
       "      <th>Amount in Dollars Change inMC</th>\n",
       "      <th>Date</th>\n",
       "      <th>Open</th>\n",
       "      <th>High</th>\n",
       "      <th>Low</th>\n",
       "      <th>Close</th>\n",
       "    </tr>\n",
       "  </thead>\n",
       "  <tbody>\n",
       "    <tr>\n",
       "      <th>0</th>\n",
       "      <td>A New Lens: Dotlumen CEO Cornel Amariei on Ass...</td>\n",
       "      <td>Positive</td>\n",
       "      <td>0.07</td>\n",
       "      <td>0.00</td>\n",
       "      <td>0.93</td>\n",
       "      <td>-3.44%</td>\n",
       "      <td>-30.590027</td>\n",
       "      <td>4/3/2024</td>\n",
       "      <td>904.06</td>\n",
       "      <td>906.34</td>\n",
       "      <td>858.80</td>\n",
       "      <td>859.05</td>\n",
       "    </tr>\n",
       "    <tr>\n",
       "      <th>1</th>\n",
       "      <td>Coming Up ACEs: Decoding the AI Technology Tha...</td>\n",
       "      <td>Positive</td>\n",
       "      <td>0.12</td>\n",
       "      <td>0.01</td>\n",
       "      <td>0.88</td>\n",
       "      <td>-3.44%</td>\n",
       "      <td>-30.590027</td>\n",
       "      <td>4/3/2024</td>\n",
       "      <td>904.06</td>\n",
       "      <td>906.34</td>\n",
       "      <td>858.80</td>\n",
       "      <td>859.05</td>\n",
       "    </tr>\n",
       "    <tr>\n",
       "      <th>2</th>\n",
       "      <td>Greater Scope: Doctors Get Inside Look at Gut ...</td>\n",
       "      <td>Positive</td>\n",
       "      <td>0.09</td>\n",
       "      <td>0.02</td>\n",
       "      <td>0.89</td>\n",
       "      <td>0.01%</td>\n",
       "      <td>0.070007</td>\n",
       "      <td>3/28/2024</td>\n",
       "      <td>900.00</td>\n",
       "      <td>913.00</td>\n",
       "      <td>891.93</td>\n",
       "      <td>903.56</td>\n",
       "    </tr>\n",
       "    <tr>\n",
       "      <th>3</th>\n",
       "      <td>Get Cozy With ‘Palia’ on GeForce NOW</td>\n",
       "      <td>Positive</td>\n",
       "      <td>0.13</td>\n",
       "      <td>0.01</td>\n",
       "      <td>0.87</td>\n",
       "      <td>0.01%</td>\n",
       "      <td>0.070007</td>\n",
       "      <td>3/29/2024</td>\n",
       "      <td>900.00</td>\n",
       "      <td>913.00</td>\n",
       "      <td>891.93</td>\n",
       "      <td>903.56</td>\n",
       "    </tr>\n",
       "    <tr>\n",
       "      <th>4</th>\n",
       "      <td>NVIDIA Hopper Leaps Ahead in Generative AI at ...</td>\n",
       "      <td>Positive</td>\n",
       "      <td>0.08</td>\n",
       "      <td>0.01</td>\n",
       "      <td>0.91</td>\n",
       "      <td>0.12%</td>\n",
       "      <td>1.059998</td>\n",
       "      <td>3/27/2024</td>\n",
       "      <td>931.12</td>\n",
       "      <td>932.40</td>\n",
       "      <td>891.23</td>\n",
       "      <td>902.50</td>\n",
       "    </tr>\n",
       "    <tr>\n",
       "      <th>5</th>\n",
       "      <td>Unlocking Peak Generations: TensorRT Accelerat...</td>\n",
       "      <td>Positive</td>\n",
       "      <td>0.15</td>\n",
       "      <td>0.01</td>\n",
       "      <td>0.84</td>\n",
       "      <td>0.12%</td>\n",
       "      <td>1.059998</td>\n",
       "      <td>3/27/2024</td>\n",
       "      <td>931.12</td>\n",
       "      <td>932.40</td>\n",
       "      <td>891.23</td>\n",
       "      <td>902.50</td>\n",
       "    </tr>\n",
       "    <tr>\n",
       "      <th>6</th>\n",
       "      <td>\\nViome’s Guru Banavar Discusses AI for Person...</td>\n",
       "      <td>Positive</td>\n",
       "      <td>0.07</td>\n",
       "      <td>0.00</td>\n",
       "      <td>0.93</td>\n",
       "      <td>0.12%</td>\n",
       "      <td>1.059998</td>\n",
       "      <td>3/27/2024</td>\n",
       "      <td>931.12</td>\n",
       "      <td>932.40</td>\n",
       "      <td>891.23</td>\n",
       "      <td>902.50</td>\n",
       "    </tr>\n",
       "    <tr>\n",
       "      <th>7</th>\n",
       "      <td>Boom in AI-Enabled Medical Devices Transforms ...</td>\n",
       "      <td>Positive</td>\n",
       "      <td>0.10</td>\n",
       "      <td>0.00</td>\n",
       "      <td>0.90</td>\n",
       "      <td>-2.50%</td>\n",
       "      <td>-23.109985</td>\n",
       "      <td>3/26/2024</td>\n",
       "      <td>958.51</td>\n",
       "      <td>963.75</td>\n",
       "      <td>925.02</td>\n",
       "      <td>925.61</td>\n",
       "    </tr>\n",
       "    <tr>\n",
       "      <th>8</th>\n",
       "      <td>Model Innovators: How Digital Twins Are Making...</td>\n",
       "      <td>Positive</td>\n",
       "      <td>0.12</td>\n",
       "      <td>0.01</td>\n",
       "      <td>0.87</td>\n",
       "      <td>-2.50%</td>\n",
       "      <td>-23.109985</td>\n",
       "      <td>3/26/2024</td>\n",
       "      <td>958.51</td>\n",
       "      <td>963.75</td>\n",
       "      <td>925.02</td>\n",
       "      <td>925.61</td>\n",
       "    </tr>\n",
       "    <tr>\n",
       "      <th>9</th>\n",
       "      <td>Into the Omniverse: Groundbreaking OpenUSD Adv...</td>\n",
       "      <td>Positive</td>\n",
       "      <td>0.05</td>\n",
       "      <td>0.01</td>\n",
       "      <td>0.94</td>\n",
       "      <td>-2.50%</td>\n",
       "      <td>-23.109985</td>\n",
       "      <td>3/26/2024</td>\n",
       "      <td>958.51</td>\n",
       "      <td>963.75</td>\n",
       "      <td>925.02</td>\n",
       "      <td>925.61</td>\n",
       "    </tr>\n",
       "  </tbody>\n",
       "</table>\n",
       "</div>"
      ],
      "text/plain": [
       "                                           Articles  Overall Sentiment   \\\n",
       "0  A New Lens: Dotlumen CEO Cornel Amariei on Ass...           Positive   \n",
       "1  Coming Up ACEs: Decoding the AI Technology Tha...           Positive   \n",
       "2  Greater Scope: Doctors Get Inside Look at Gut ...           Positive   \n",
       "3               Get Cozy With ‘Palia’ on GeForce NOW           Positive   \n",
       "4  NVIDIA Hopper Leaps Ahead in Generative AI at ...           Positive   \n",
       "5  Unlocking Peak Generations: TensorRT Accelerat...           Positive   \n",
       "6  \\nViome’s Guru Banavar Discusses AI for Person...           Positive   \n",
       "7  Boom in AI-Enabled Medical Devices Transforms ...           Positive   \n",
       "8  Model Innovators: How Digital Twins Are Making...           Positive   \n",
       "9  Into the Omniverse: Groundbreaking OpenUSD Adv...           Positive   \n",
       "\n",
       "   Positive Sentiment Score   Negative Sentiment Score   \\\n",
       "0                       0.07                       0.00   \n",
       "1                       0.12                       0.01   \n",
       "2                       0.09                       0.02   \n",
       "3                       0.13                       0.01   \n",
       "4                       0.08                       0.01   \n",
       "5                       0.15                       0.01   \n",
       "6                       0.07                       0.00   \n",
       "7                       0.10                       0.00   \n",
       "8                       0.12                       0.01   \n",
       "9                       0.05                       0.01   \n",
       "\n",
       "   Neutral Sentiment Score  Percentage Change in MC  \\\n",
       "0                      0.93                  -3.44%   \n",
       "1                      0.88                  -3.44%   \n",
       "2                      0.89                   0.01%   \n",
       "3                      0.87                   0.01%   \n",
       "4                      0.91                   0.12%   \n",
       "5                      0.84                   0.12%   \n",
       "6                      0.93                   0.12%   \n",
       "7                      0.90                  -2.50%   \n",
       "8                      0.87                  -2.50%   \n",
       "9                      0.94                  -2.50%   \n",
       "\n",
       "   Amount in Dollars Change inMC       Date    Open    High     Low   Close   \n",
       "0                      -30.590027   4/3/2024  904.06  906.34  858.80  859.05  \n",
       "1                      -30.590027   4/3/2024  904.06  906.34  858.80  859.05  \n",
       "2                        0.070007  3/28/2024  900.00  913.00  891.93  903.56  \n",
       "3                        0.070007  3/29/2024  900.00  913.00  891.93  903.56  \n",
       "4                        1.059998  3/27/2024  931.12  932.40  891.23  902.50  \n",
       "5                        1.059998  3/27/2024  931.12  932.40  891.23  902.50  \n",
       "6                        1.059998  3/27/2024  931.12  932.40  891.23  902.50  \n",
       "7                      -23.109985  3/26/2024  958.51  963.75  925.02  925.61  \n",
       "8                      -23.109985  3/26/2024  958.51  963.75  925.02  925.61  \n",
       "9                      -23.109985  3/26/2024  958.51  963.75  925.02  925.61  "
      ]
     },
     "execution_count": 2,
     "metadata": {},
     "output_type": "execute_result"
    }
   ],
   "source": [
    "import numpy as np\n",
    "#Replace '?' with 'NaN'\n",
    "df.replace('?',np.nan, inplace = True)\n",
    "df.head(10)"
   ]
  },
  {
   "cell_type": "code",
   "execution_count": 3,
   "id": "4e6dc47f",
   "metadata": {},
   "outputs": [
    {
     "name": "stdout",
     "output_type": "stream",
     "text": [
      "                                            Articles  Overall Sentiment   \\\n",
      "0   A New Lens: Dotlumen CEO Cornel Amariei on Ass...           Positive   \n",
      "1   Coming Up ACEs: Decoding the AI Technology Tha...           Positive   \n",
      "2   Greater Scope: Doctors Get Inside Look at Gut ...           Positive   \n",
      "3                Get Cozy With ‘Palia’ on GeForce NOW           Positive   \n",
      "4   NVIDIA Hopper Leaps Ahead in Generative AI at ...           Positive   \n",
      "5   Unlocking Peak Generations: TensorRT Accelerat...           Positive   \n",
      "6   \\nViome’s Guru Banavar Discusses AI for Person...           Positive   \n",
      "7   Boom in AI-Enabled Medical Devices Transforms ...           Positive   \n",
      "8   Model Innovators: How Digital Twins Are Making...           Positive   \n",
      "9   Into the Omniverse: Groundbreaking OpenUSD Adv...           Positive   \n",
      "10  NVIDIA Blackwell and Automotive Industry Innov...           Positive   \n",
      "11  AI’s New Frontier: From Daydreams to Digital D...           Positive   \n",
      "12  Here Be Dragons: ‘Dragon’s Dogma 2’ Comes to G...           Negative   \n",
      "13  Instant Latte: NVIDIA Gen AI Research Brews 3D...          Positive    \n",
      "14  ‘You Transformed the World,’ NVIDIA CEO Tells ...          Positive    \n",
      "15  AI Decoded From GTC: The Latest Developer Tool...          Positive    \n",
      "16  Secure by Design: NVIDIA AIOps Partner Ecosyst...          Positive    \n",
      "17  Climate Pioneers: 3 Startups Harnessing NVIDIA...          Positive    \n",
      "18  NVIDIA Celebrates Americas Partners Driving AI...          Positive    \n",
      "19  \\nNVIDIA, Huang Win Top Honors in Innovation, ...          Positive    \n",
      "20  \\nGeneration Sensation: New Generative AI and ...          Positive    \n",
      "21  ‘We Created a Processor for the Generative AI ...          Positive    \n",
      "22  \\nAll Aboard: NVIDIA Scores 23 World Records f...          Positive    \n",
      "23  \\nAll Eyes on AI: Automotive Tech on Full Disp...          Positive    \n",
      "24  Generative AI Developers Harness NVIDIA Techno...          Positive    \n",
      "25  NVIDIA Unveils Digital Blueprint for Building ...          Positive    \n",
      "26  \\nNVIDIA Digital Human Technologies Bring AI C...          Positive    \n",
      "27  \\nNew NVIDIA Storage Partner Validation Progra...          Positive    \n",
      "28  From Atoms to Supercomputers: NVIDIA, Partners...          Positive    \n",
      "29  NVIDIA Maxine Developer Platform to Transform ...          Positive    \n",
      "30  NVIDIA Edify Unlocks 3D Generative AI, New Ima...          Positive    \n",
      "31  Make It So: Software Speeds Journey to Post-Qu...          Positive    \n",
      "32  BNY Mellon, First Global Bank to Deploy AI Sup...          Positive    \n",
      "33  SAP and NVIDIA to Accelerate Generative AI Ado...          Positive    \n",
      "34  Google Cloud and NVIDIA Expand Partnership to ...          Positive    \n",
      "35  Oracle and NVIDIA to Deliver Sovereign AI Worl...          Positive    \n",
      "36  NVIDIA Brings Generative AI for Digital Humans...          Positive    \n",
      "37  Johnson & Johnson MedTech Works With NVIDIA to...          Positive    \n",
      "38  NVIDIA Unveils 6G Research Cloud Platform to A...          Positive    \n",
      "39  NVIDIA Powers Japan’s ABCI-Q Supercomputer for...          Positive    \n",
      "40  NVIDIA Launches Cloud Quantum-Computer Simulat...          Positive    \n",
      "41  NVIDIA Isaac Taps Generative AI for Manufactur...          Positive    \n",
      "42  NVIDIA Announces Project GR00T Foundation Mode...          Positive    \n",
      "43  NVIDIA DRIVE Powers Next Generation of Transpo...          Positive    \n",
      "44  NVIDIA Omniverse Expands Worlds Using Apple Vi...          Positive    \n",
      "45  NVIDIA and Siemens Bring Immersive Visualizati...          Positive    \n",
      "46  NVIDIA Supercharges Autonomous System Developm...          Positive    \n",
      "\n",
      "    Positive Sentiment Score   Negative Sentiment Score   \\\n",
      "0                        0.07                       0.00   \n",
      "1                        0.12                       0.01   \n",
      "2                        0.09                       0.02   \n",
      "3                        0.13                       0.01   \n",
      "4                        0.08                       0.01   \n",
      "5                        0.15                       0.01   \n",
      "6                        0.07                       0.00   \n",
      "7                        0.10                       0.00   \n",
      "8                        0.12                       0.01   \n",
      "9                        0.05                       0.01   \n",
      "10                       0.06                       0.00   \n",
      "11                       0.11                       0.03   \n",
      "12                       0.08                       0.12   \n",
      "13                       0.06                       0.00   \n",
      "14                       0.09                       0.03   \n",
      "15                       0.12                       0.00   \n",
      "16                       0.19                       0.02   \n",
      "17                       0.17                       0.06   \n",
      "18                       0.17                       0.01   \n",
      "19                       0.13                       0.00   \n",
      "20                       0.11                       0.00   \n",
      "21                       0.09                       0.00   \n",
      "22                       0.15                       0.01   \n",
      "23                       0.10                       0.00   \n",
      "24                       0.11                       0.00   \n",
      "25                       0.11                       0.00   \n",
      "26                       0.11                       0.01   \n",
      "27                       0.13                       0.01   \n",
      "28                       0.07                       0.01   \n",
      "29                       0.14                       0.01   \n",
      "30                       0.11                       0.00   \n",
      "31                       0.09                       0.02   \n",
      "32                       0.15                       0.01   \n",
      "33                       0.10                       0.00   \n",
      "34                       0.13                       0.01   \n",
      "35                       0.13                       0.01   \n",
      "36                       0.10                       0.01   \n",
      "37                       0.12                       0.00   \n",
      "38                       0.10                       0.00   \n",
      "39                       0.07                       0.02   \n",
      "40                       0.07                       0.02   \n",
      "41                       0.07                       0.01   \n",
      "42                       0.12                       0.01   \n",
      "43                       0.11                       0.00   \n",
      "44                       0.10                       0.01   \n",
      "45                       0.08                       0.20   \n",
      "46                       0.10                       0.04   \n",
      "\n",
      "    Neutral Sentiment Score  Percentage Change in MC  \\\n",
      "0                       0.93                  -3.44%   \n",
      "1                       0.88                  -3.44%   \n",
      "2                       0.89                   0.01%   \n",
      "3                       0.87                   0.01%   \n",
      "4                       0.91                   0.12%   \n",
      "5                       0.84                   0.12%   \n",
      "6                       0.93                   0.12%   \n",
      "7                       0.90                  -2.50%   \n",
      "8                       0.87                  -2.50%   \n",
      "9                       0.94                  -2.50%   \n",
      "10                      0.94                  -2.57%   \n",
      "11                      0.86                  -2.57%   \n",
      "12                      0.80                   3.12%   \n",
      "13                      0.94                   3.12%   \n",
      "14                      0.88                   3.12%   \n",
      "15                      0.88                   1.18%   \n",
      "16                      0.79                   1.09%   \n",
      "17                      0.78                   1.09%   \n",
      "18                      0.82                   1.09%   \n",
      "19                      0.87                   1.09%   \n",
      "20                      0.89                   1.09%   \n",
      "21                      0.91                   1.07%   \n",
      "22                      0.84                   1.07%   \n",
      "23                      0.90                   1.07%   \n",
      "24                      0.89                   1.07%   \n",
      "25                      0.89                   1.07%   \n",
      "26                      0.88                   1.07%   \n",
      "27                      0.85                   1.07%   \n",
      "28                      0.92                   1.07%   \n",
      "29                      0.85                   1.07%   \n",
      "30                      0.89                   1.07%   \n",
      "31                      0.89                   1.07%   \n",
      "32                      0.83                   1.07%   \n",
      "33                      0.90                   1.07%   \n",
      "34                      0.86                   1.07%   \n",
      "35                      0.86                   1.07%   \n",
      "36                      0.89                   1.07%   \n",
      "37                      0.88                   1.07%   \n",
      "38                      0.90                   1.07%   \n",
      "39                      0.91                   1.07%   \n",
      "40                      0.91                   1.07%   \n",
      "41                      0.92                   1.07%   \n",
      "42                      0.87                   1.07%   \n",
      "43                      0.89                   1.07%   \n",
      "44                      0.89                   1.07%   \n",
      "45                      0.90                   1.07%   \n",
      "46                      0.86                   1.07%   \n",
      "\n",
      "    Amount in Dollars Change inMC       Date    Open    High     Low   Close   \n",
      "0                       -30.590027   4/3/2024  904.06  906.34  858.80  859.05  \n",
      "1                       -30.590027   4/3/2024  904.06  906.34  858.80  859.05  \n",
      "2                         0.070007  3/28/2024  900.00  913.00  891.93  903.56  \n",
      "3                         0.070007  3/29/2024  900.00  913.00  891.93  903.56  \n",
      "4                         1.059998  3/27/2024  931.12  932.40  891.23  902.50  \n",
      "5                         1.059998  3/27/2024  931.12  932.40  891.23  902.50  \n",
      "6                         1.059998  3/27/2024  931.12  932.40  891.23  902.50  \n",
      "7                       -23.109985  3/26/2024  958.51  963.75  925.02  925.61  \n",
      "8                       -23.109985  3/26/2024  958.51  963.75  925.02  925.61  \n",
      "9                       -23.109985  3/26/2024  958.51  963.75  925.02  925.61  \n",
      "10                      -24.410034  3/25/2024  939.41  967.66  935.10  950.02  \n",
      "11                      -24.410034  3/21/2024  923.00  926.48  904.05  914.35  \n",
      "12                       28.540039  3/21/2024  923.00  926.48  904.05  914.35  \n",
      "13                       28.540039  3/21/2024  923.00  926.48  904.05  914.35  \n",
      "14                       28.540039  3/21/2024  923.00  926.48  904.05  914.35  \n",
      "15                       10.630005  3/20/2024  897.97  904.10  882.23  903.72  \n",
      "16                        9.739990  3/19/2024  867.00  905.44  850.10  893.98  \n",
      "17                        9.739990  3/19/2024  867.00  905.44  850.10  893.98  \n",
      "18                        9.739990  3/19/2024  867.00  905.44  850.10  893.98  \n",
      "19                        9.739990  3/19/2024  867.00  905.44  850.10  893.98  \n",
      "20                        9.739990  3/19/2024  867.00  905.44  850.10  893.98  \n",
      "21                        9.429993  3/18/2024  903.88  924.05  870.85  884.55  \n",
      "22                        9.429993  3/18/2024  903.88  924.05  870.85  884.55  \n",
      "23                        9.429993  3/18/2024  903.88  924.05  870.85  884.55  \n",
      "24                        9.429993  3/18/2024  903.88  924.05  870.85  884.55  \n",
      "25                        9.429993  3/18/2024  903.88  924.05  870.85  884.55  \n",
      "26                        9.429993  3/18/2024  903.88  924.05  870.85  884.55  \n",
      "27                        9.429993  3/18/2024  903.88  924.05  870.85  884.55  \n",
      "28                        9.429993  3/18/2024  903.88  924.05  870.85  884.55  \n",
      "29                        9.429993  3/18/2024  903.88  924.05  870.85  884.55  \n",
      "30                        9.429993  3/18/2024  903.88  924.05  870.85  884.55  \n",
      "31                        9.429993  3/18/2024  903.88  924.05  870.85  884.55  \n",
      "32                        9.429993  3/18/2024  903.88  924.05  870.85  884.55  \n",
      "33                        9.429993  3/18/2024  903.88  924.05  870.85  884.55  \n",
      "34                        9.429993  3/18/2024  903.88  924.05  870.85  884.55  \n",
      "35                        9.429993  3/18/2024  903.88  924.05  870.85  884.55  \n",
      "36                        9.429993  3/18/2024  903.88  924.05  870.85  884.55  \n",
      "37                        9.429993  3/18/2024  903.88  924.05  870.85  884.55  \n",
      "38                        9.429993  3/18/2024  903.88  924.05  870.85  884.55  \n",
      "39                        9.429993  3/18/2024  903.88  924.05  870.85  884.55  \n",
      "40                        9.429993  3/18/2024  903.88  924.05  870.85  884.55  \n",
      "41                        9.429993  3/18/2024  903.88  924.05  870.85  884.55  \n",
      "42                        9.429993  3/18/2024  903.88  924.05  870.85  884.55  \n",
      "43                        9.429993  3/18/2024  903.88  924.05  870.85  884.55  \n",
      "44                        9.429993  3/18/2024  903.88  924.05  870.85  884.55  \n",
      "45                        9.429993  3/18/2024  903.88  924.05  870.85  884.55  \n",
      "46                        9.429993  3/18/2024  903.88  924.05  870.85  884.55  \n"
     ]
    }
   ],
   "source": [
    "# Drop rows where all columns are NaN\n",
    "df_dropped = df.dropna(how='all')\n",
    "print(df_dropped)"
   ]
  },
  {
   "cell_type": "code",
   "execution_count": 4,
   "id": "e21ef420",
   "metadata": {},
   "outputs": [
    {
     "name": "stdout",
     "output_type": "stream",
     "text": [
      "                                                Articles  Overall Sentiment   \\\n",
      "count                                                  47                 47   \n",
      "unique                                                 47                  3   \n",
      "top     A New Lens: Dotlumen CEO Cornel Amariei on Ass...          Positive    \n",
      "freq                                                    1                 34   \n",
      "mean                                                  NaN                NaN   \n",
      "std                                                   NaN                NaN   \n",
      "min                                                   NaN                NaN   \n",
      "25%                                                   NaN                NaN   \n",
      "50%                                                   NaN                NaN   \n",
      "75%                                                   NaN                NaN   \n",
      "max                                                   NaN                NaN   \n",
      "\n",
      "        Positive Sentiment Score   Negative Sentiment Score   \\\n",
      "count                   47.000000                  47.000000   \n",
      "unique                        NaN                        NaN   \n",
      "top                           NaN                        NaN   \n",
      "freq                          NaN                        NaN   \n",
      "mean                     0.107021                   0.016383   \n",
      "std                      0.031132                   0.033843   \n",
      "min                      0.050000                   0.000000   \n",
      "25%                      0.085000                   0.000000   \n",
      "50%                      0.110000                   0.010000   \n",
      "75%                      0.125000                   0.010000   \n",
      "max                      0.190000                   0.200000   \n",
      "\n",
      "        Neutral Sentiment Score  Percentage Change in MC  \\\n",
      "count                  47.000000                      47   \n",
      "unique                       NaN                       9   \n",
      "top                          NaN                   1.07%   \n",
      "freq                         NaN                      26   \n",
      "mean                    0.880638                     NaN   \n",
      "std                     0.037031                     NaN   \n",
      "min                     0.780000                     NaN   \n",
      "25%                     0.860000                     NaN   \n",
      "50%                     0.890000                     NaN   \n",
      "75%                     0.900000                     NaN   \n",
      "max                     0.940000                     NaN   \n",
      "\n",
      "        Amount in Dollars Change inMC       Date       Open        High   \\\n",
      "count                        47.000000         47   47.00000   47.000000   \n",
      "unique                             NaN         10        NaN         NaN   \n",
      "top                                NaN  3/18/2024        NaN         NaN   \n",
      "freq                               NaN         26        NaN         NaN   \n",
      "mean                          4.555741        NaN  907.28234  924.623617   \n",
      "std                          14.015751        NaN   20.96879   14.632142   \n",
      "min                         -30.590027        NaN  867.00000  904.100000   \n",
      "25%                           5.244995        NaN  903.88000  924.050000   \n",
      "50%                           9.429993        NaN  903.88000  924.050000   \n",
      "75%                           9.429993        NaN  904.06000  924.050000   \n",
      "max                          28.540039        NaN  958.51000  967.660000   \n",
      "\n",
      "              Low       Close   \n",
      "count    47.000000   47.000000  \n",
      "unique         NaN         NaN  \n",
      "top            NaN         NaN  \n",
      "freq           NaN         NaN  \n",
      "mean    878.220000  893.380638  \n",
      "std      20.586394   16.832399  \n",
      "min     850.100000  859.050000  \n",
      "25%     870.850000  884.550000  \n",
      "50%     870.850000  884.550000  \n",
      "75%     891.230000  902.500000  \n",
      "max     935.100000  950.020000  \n"
     ]
    }
   ],
   "source": [
    "print(df.describe(include='all'))"
   ]
  },
  {
   "cell_type": "code",
   "execution_count": 5,
   "id": "479684d4",
   "metadata": {},
   "outputs": [
    {
     "name": "stdout",
     "output_type": "stream",
     "text": [
      "<class 'pandas.core.frame.DataFrame'>\n",
      "RangeIndex: 343 entries, 0 to 342\n",
      "Data columns (total 12 columns):\n",
      " #   Column                          Non-Null Count  Dtype  \n",
      "---  ------                          --------------  -----  \n",
      " 0   Articles                        47 non-null     object \n",
      " 1   Overall Sentiment               47 non-null     object \n",
      " 2   Positive Sentiment Score        47 non-null     float64\n",
      " 3   Negative Sentiment Score        47 non-null     float64\n",
      " 4   Neutral Sentiment Score         47 non-null     float64\n",
      " 5   Percentage Change in MC         47 non-null     object \n",
      " 6   Amount in Dollars Change inMC   47 non-null     float64\n",
      " 7   Date                            47 non-null     object \n",
      " 8   Open                            47 non-null     float64\n",
      " 9   High                            47 non-null     float64\n",
      " 10  Low                             47 non-null     float64\n",
      " 11  Close                           47 non-null     float64\n",
      "dtypes: float64(8), object(4)\n",
      "memory usage: 32.3+ KB\n",
      "None\n"
     ]
    }
   ],
   "source": [
    "print(df.info())"
   ]
  },
  {
   "cell_type": "code",
   "execution_count": 6,
   "id": "0382a373",
   "metadata": {},
   "outputs": [
    {
     "name": "stdout",
     "output_type": "stream",
     "text": [
      "Articles \n",
      "Articles \n",
      "True     296\n",
      "False     47\n",
      "Name: count, dtype: int64\n",
      "\n",
      "Overall Sentiment \n",
      "Overall Sentiment \n",
      "True     296\n",
      "False     47\n",
      "Name: count, dtype: int64\n",
      "\n",
      "Positive Sentiment Score \n",
      "Positive Sentiment Score \n",
      "True     296\n",
      "False     47\n",
      "Name: count, dtype: int64\n",
      "\n",
      "Negative Sentiment Score \n",
      "Negative Sentiment Score \n",
      "True     296\n",
      "False     47\n",
      "Name: count, dtype: int64\n",
      "\n",
      "Neutral Sentiment Score \n",
      "Neutral Sentiment Score \n",
      "True     296\n",
      "False     47\n",
      "Name: count, dtype: int64\n",
      "\n",
      "Percentage Change in MC\n",
      "Percentage Change in MC\n",
      "True     296\n",
      "False     47\n",
      "Name: count, dtype: int64\n",
      "\n",
      "Amount in Dollars Change inMC \n",
      "Amount in Dollars Change inMC \n",
      "True     296\n",
      "False     47\n",
      "Name: count, dtype: int64\n",
      "\n",
      "Date \n",
      "Date \n",
      "True     296\n",
      "False     47\n",
      "Name: count, dtype: int64\n",
      "\n",
      "Open \n",
      "Open \n",
      "True     296\n",
      "False     47\n",
      "Name: count, dtype: int64\n",
      "\n",
      "High \n",
      "High \n",
      "True     296\n",
      "False     47\n",
      "Name: count, dtype: int64\n",
      "\n",
      "Low \n",
      "Low \n",
      "True     296\n",
      "False     47\n",
      "Name: count, dtype: int64\n",
      "\n",
      "Close \n",
      "Close \n",
      "True     296\n",
      "False     47\n",
      "Name: count, dtype: int64\n",
      "\n"
     ]
    }
   ],
   "source": [
    "#Count missing values in each column\n",
    "missing_data = df.isnull()\n",
    "missing_data.head(5)\n",
    "#Using a for loop in Python, you can quickly figure out the number of missing values in each column. As mentioned above, \"True\" represents a missing value and \"False\" means the value is present in the data set. In the body of the for loop the method \".value_counts()\" counts the number of \"True\" values.\n",
    "for column in missing_data.columns.values.tolist():\n",
    "    print(column)\n",
    "    print (missing_data[column].value_counts())\n",
    "    print(\"\")"
   ]
  },
  {
   "cell_type": "code",
   "execution_count": 7,
   "id": "a2c9e0af",
   "metadata": {},
   "outputs": [
    {
     "name": "stdout",
     "output_type": "stream",
     "text": [
      "Index(['Articles ', 'Overall Sentiment ', 'Positive Sentiment Score ',\n",
      "       'Negative Sentiment Score ', 'Neutral Sentiment Score ',\n",
      "       'Percentage Change in MC', 'Amount in Dollars Change inMC ', 'Date ',\n",
      "       'Open ', 'High ', 'Low ', 'Close '],\n",
      "      dtype='object')\n"
     ]
    }
   ],
   "source": [
    "# Print the column names to verify\n",
    "print(df.columns)"
   ]
  },
  {
   "cell_type": "code",
   "execution_count": 8,
   "id": "093ceca6",
   "metadata": {},
   "outputs": [],
   "source": [
    "import pandas as pd\n",
    "\n",
    "# Remove the '%' symbol and convert to float\n",
    "df['Percentage Change in MC'] = df['Percentage Change in MC'].str.replace('%', '').astype(float)"
   ]
  },
  {
   "cell_type": "code",
   "execution_count": 9,
   "id": "cf34fd22",
   "metadata": {},
   "outputs": [
    {
     "data": {
      "text/html": [
       "<div>\n",
       "<style scoped>\n",
       "    .dataframe tbody tr th:only-of-type {\n",
       "        vertical-align: middle;\n",
       "    }\n",
       "\n",
       "    .dataframe tbody tr th {\n",
       "        vertical-align: top;\n",
       "    }\n",
       "\n",
       "    .dataframe thead th {\n",
       "        text-align: right;\n",
       "    }\n",
       "</style>\n",
       "<table border=\"1\" class=\"dataframe\">\n",
       "  <thead>\n",
       "    <tr style=\"text-align: right;\">\n",
       "      <th></th>\n",
       "      <th>Positive Sentiment Score</th>\n",
       "      <th>Negative Sentiment Score</th>\n",
       "      <th>Neutral Sentiment Score</th>\n",
       "      <th>Percentage Change in MC</th>\n",
       "      <th>Amount in Dollars Change inMC</th>\n",
       "    </tr>\n",
       "  </thead>\n",
       "  <tbody>\n",
       "    <tr>\n",
       "      <th>Positive Sentiment Score</th>\n",
       "      <td>1.000000</td>\n",
       "      <td>-0.086792</td>\n",
       "      <td>-0.846868</td>\n",
       "      <td>0.128900</td>\n",
       "      <td>0.128685</td>\n",
       "    </tr>\n",
       "    <tr>\n",
       "      <th>Negative Sentiment Score</th>\n",
       "      <td>-0.086792</td>\n",
       "      <td>1.000000</td>\n",
       "      <td>-0.260047</td>\n",
       "      <td>0.188818</td>\n",
       "      <td>0.189428</td>\n",
       "    </tr>\n",
       "    <tr>\n",
       "      <th>Neutral Sentiment Score</th>\n",
       "      <td>-0.846868</td>\n",
       "      <td>-0.260047</td>\n",
       "      <td>1.000000</td>\n",
       "      <td>-0.262594</td>\n",
       "      <td>-0.263064</td>\n",
       "    </tr>\n",
       "    <tr>\n",
       "      <th>Percentage Change in MC</th>\n",
       "      <td>0.128900</td>\n",
       "      <td>0.188818</td>\n",
       "      <td>-0.262594</td>\n",
       "      <td>1.000000</td>\n",
       "      <td>0.999784</td>\n",
       "    </tr>\n",
       "    <tr>\n",
       "      <th>Amount in Dollars Change inMC</th>\n",
       "      <td>0.128685</td>\n",
       "      <td>0.189428</td>\n",
       "      <td>-0.263064</td>\n",
       "      <td>0.999784</td>\n",
       "      <td>1.000000</td>\n",
       "    </tr>\n",
       "  </tbody>\n",
       "</table>\n",
       "</div>"
      ],
      "text/plain": [
       "                                Positive Sentiment Score   \\\n",
       "Positive Sentiment Score                         1.000000   \n",
       "Negative Sentiment Score                        -0.086792   \n",
       "Neutral Sentiment Score                         -0.846868   \n",
       "Percentage Change in MC                          0.128900   \n",
       "Amount in Dollars Change inMC                    0.128685   \n",
       "\n",
       "                                Negative Sentiment Score   \\\n",
       "Positive Sentiment Score                        -0.086792   \n",
       "Negative Sentiment Score                         1.000000   \n",
       "Neutral Sentiment Score                         -0.260047   \n",
       "Percentage Change in MC                          0.188818   \n",
       "Amount in Dollars Change inMC                    0.189428   \n",
       "\n",
       "                                Neutral Sentiment Score   \\\n",
       "Positive Sentiment Score                       -0.846868   \n",
       "Negative Sentiment Score                       -0.260047   \n",
       "Neutral Sentiment Score                         1.000000   \n",
       "Percentage Change in MC                        -0.262594   \n",
       "Amount in Dollars Change inMC                  -0.263064   \n",
       "\n",
       "                                Percentage Change in MC  \\\n",
       "Positive Sentiment Score                       0.128900   \n",
       "Negative Sentiment Score                       0.188818   \n",
       "Neutral Sentiment Score                       -0.262594   \n",
       "Percentage Change in MC                        1.000000   \n",
       "Amount in Dollars Change inMC                  0.999784   \n",
       "\n",
       "                                Amount in Dollars Change inMC   \n",
       "Positive Sentiment Score                              0.128685  \n",
       "Negative Sentiment Score                              0.189428  \n",
       "Neutral Sentiment Score                              -0.263064  \n",
       "Percentage Change in MC                               0.999784  \n",
       "Amount in Dollars Change inMC                         1.000000  "
      ]
     },
     "execution_count": 9,
     "metadata": {},
     "output_type": "execute_result"
    }
   ],
   "source": [
    "df[['Positive Sentiment Score ',\n",
    "       'Negative Sentiment Score ', 'Neutral Sentiment Score ',\n",
    "       'Percentage Change in MC', 'Amount in Dollars Change inMC ']].corr()"
   ]
  },
  {
   "cell_type": "code",
   "execution_count": 10,
   "id": "6164ff41",
   "metadata": {},
   "outputs": [],
   "source": [
    "import seaborn as sns"
   ]
  },
  {
   "cell_type": "code",
   "execution_count": 11,
   "id": "7502dc72",
   "metadata": {},
   "outputs": [
    {
     "data": {
      "text/plain": [
       "<Axes: xlabel='Positive Sentiment Score ', ylabel='Percentage Change in MC'>"
      ]
     },
     "execution_count": 11,
     "metadata": {},
     "output_type": "execute_result"
    },
    {
     "data": {
      "image/png": "[encoded data removed]",
      "text/plain": [
       "<Figure size 640x480 with 1 Axes>"
      ]
     },
     "metadata": {},
     "output_type": "display_data"
    }
   ],
   "source": [
    "sns.regplot(x=\"Positive Sentiment Score \", y=\"Percentage Change in MC\", data=df)"
   ]
  },
  {
   "cell_type": "code",
   "execution_count": 12,
   "id": "9a73d924",
   "metadata": {},
   "outputs": [
    {
     "name": "stdout",
     "output_type": "stream",
     "text": [
      "Index(['Articles ', 'Overall Sentiment ', 'Positive Sentiment Score ',\n",
      "       'Negative Sentiment Score ', 'Neutral Sentiment Score ',\n",
      "       'Percentage Change in MC', 'Amount in Dollars Change inMC ', 'Date ',\n",
      "       'Open ', 'High ', 'Low ', 'Close '],\n",
      "      dtype='object')\n"
     ]
    }
   ],
   "source": [
    "print(df.columns)"
   ]
  },
  {
   "cell_type": "code",
   "execution_count": 13,
   "id": "09d2eb48",
   "metadata": {},
   "outputs": [
    {
     "data": {
      "text/plain": [
       "<Axes: xlabel='Negative Sentiment Score ', ylabel='Percentage Change in MC'>"
      ]
     },
     "execution_count": 13,
     "metadata": {},
     "output_type": "execute_result"
    },
    {
     "data": {
      "image/png": "[encoded data removed]",
      "text/plain": [
       "<Figure size 640x480 with 1 Axes>"
      ]
     },
     "metadata": {},
     "output_type": "display_data"
    }
   ],
   "source": [
    "sns.regplot(x=\"Negative Sentiment Score \", y=\"Percentage Change in MC\", data=df)"
   ]
  },
  {
   "cell_type": "code",
   "execution_count": 14,
   "id": "239ca406",
   "metadata": {},
   "outputs": [
    {
     "data": {
      "text/plain": [
       "<Axes: xlabel='Neutral Sentiment Score ', ylabel='Percentage Change in MC'>"
      ]
     },
     "execution_count": 14,
     "metadata": {},
     "output_type": "execute_result"
    },
    {
     "data": {
      "image/png": "[encoded data removed]",
      "text/plain": [
       "<Figure size 640x480 with 1 Axes>"
      ]
     },
     "metadata": {},
     "output_type": "display_data"
    }
   ],
   "source": [
    "sns.regplot(x=\"Neutral Sentiment Score \", y=\"Percentage Change in MC\", data=df)"
   ]
  },
  {
   "cell_type": "code",
   "execution_count": 15,
   "id": "bec2928a",
   "metadata": {},
   "outputs": [
    {
     "data": {
      "text/plain": [
       "<Axes: xlabel='Amount in Dollars Change inMC ', ylabel='Percentage Change in MC'>"
      ]
     },
     "execution_count": 15,
     "metadata": {},
     "output_type": "execute_result"
    },
    {
     "data": {
      "image/png": "[encoded data removed]",
      "text/plain": [
       "<Figure size 640x480 with 1 Axes>"
      ]
     },
     "metadata": {},
     "output_type": "display_data"
    }
   ],
   "source": [
    "sns.regplot(x=\"Amount in Dollars Change inMC \", y=\"Percentage Change in MC\", data=df)"
   ]
  },
  {
   "cell_type": "code",
   "execution_count": 16,
   "id": "a85f9343",
   "metadata": {},
   "outputs": [
    {
     "data": {
      "text/plain": [
       "Percentage Change in MC\n",
       " 1.07    26\n",
       " 1.09     5\n",
       " 0.12     3\n",
       "-2.50     3\n",
       " 3.12     3\n",
       "-3.44     2\n",
       " 0.01     2\n",
       "-2.57     2\n",
       " 1.18     1\n",
       "Name: count, dtype: int64"
      ]
     },
     "execution_count": 16,
     "metadata": {},
     "output_type": "execute_result"
    }
   ],
   "source": [
    "df['Percentage Change in MC'].value_counts()"
   ]
  },
  {
   "cell_type": "code",
   "execution_count": 17,
   "id": "069baf4a",
   "metadata": {},
   "outputs": [],
   "source": [
    "import matplotlib as plt\n",
    "import pandas as pd"
   ]
  },
  {
   "cell_type": "code",
   "execution_count": 18,
   "id": "b4272560",
   "metadata": {},
   "outputs": [
    {
     "ename": "KeyError",
     "evalue": "'Date'",
     "output_type": "error",
     "traceback": [
      "\u001b[1;31m---------------------------------------------------------------------------\u001b[0m",
      "\u001b[1;31mKeyError\u001b[0m                                  Traceback (most recent call last)",
      "File \u001b[1;32m~\\anaconda3\\Anaconda\\Lib\\site-packages\\pandas\\core\\indexes\\base.py:3653\u001b[0m, in \u001b[0;36mIndex.get_loc\u001b[1;34m(self, key)\u001b[0m\n\u001b[0;32m   3652\u001b[0m \u001b[38;5;28;01mtry\u001b[39;00m:\n\u001b[1;32m-> 3653\u001b[0m     \u001b[38;5;28;01mreturn\u001b[39;00m \u001b[38;5;28mself\u001b[39m\u001b[38;5;241m.\u001b[39m_engine\u001b[38;5;241m.\u001b[39mget_loc(casted_key)\n\u001b[0;32m   3654\u001b[0m \u001b[38;5;28;01mexcept\u001b[39;00m \u001b[38;5;167;01mKeyError\u001b[39;00m \u001b[38;5;28;01mas\u001b[39;00m err:\n",
      "File \u001b[1;32m~\\anaconda3\\Anaconda\\Lib\\site-packages\\pandas\\_libs\\index.pyx:147\u001b[0m, in \u001b[0;36mpandas._libs.index.IndexEngine.get_loc\u001b[1;34m()\u001b[0m\n",
      "File \u001b[1;32m~\\anaconda3\\Anaconda\\Lib\\site-packages\\pandas\\_libs\\index.pyx:176\u001b[0m, in \u001b[0;36mpandas._libs.index.IndexEngine.get_loc\u001b[1;34m()\u001b[0m\n",
      "File \u001b[1;32mpandas\\_libs\\hashtable_class_helper.pxi:7080\u001b[0m, in \u001b[0;36mpandas._libs.hashtable.PyObjectHashTable.get_item\u001b[1;34m()\u001b[0m\n",
      "File \u001b[1;32mpandas\\_libs\\hashtable_class_helper.pxi:7088\u001b[0m, in \u001b[0;36mpandas._libs.hashtable.PyObjectHashTable.get_item\u001b[1;34m()\u001b[0m\n",
      "\u001b[1;31mKeyError\u001b[0m: 'Date'",
      "\nThe above exception was the direct cause of the following exception:\n",
      "\u001b[1;31mKeyError\u001b[0m                                  Traceback (most recent call last)",
      "Cell \u001b[1;32mIn[18], line 1\u001b[0m\n\u001b[1;32m----> 1\u001b[0m df[\u001b[38;5;124m'\u001b[39m\u001b[38;5;124mDate\u001b[39m\u001b[38;5;124m'\u001b[39m] \u001b[38;5;241m=\u001b[39m df[\u001b[38;5;124m'\u001b[39m\u001b[38;5;124mDate\u001b[39m\u001b[38;5;124m'\u001b[39m]\u001b[38;5;241m.\u001b[39mastype(\u001b[38;5;28mstr\u001b[39m)\n",
      "File \u001b[1;32m~\\anaconda3\\Anaconda\\Lib\\site-packages\\pandas\\core\\frame.py:3761\u001b[0m, in \u001b[0;36mDataFrame.__getitem__\u001b[1;34m(self, key)\u001b[0m\n\u001b[0;32m   3759\u001b[0m \u001b[38;5;28;01mif\u001b[39;00m \u001b[38;5;28mself\u001b[39m\u001b[38;5;241m.\u001b[39mcolumns\u001b[38;5;241m.\u001b[39mnlevels \u001b[38;5;241m>\u001b[39m \u001b[38;5;241m1\u001b[39m:\n\u001b[0;32m   3760\u001b[0m     \u001b[38;5;28;01mreturn\u001b[39;00m \u001b[38;5;28mself\u001b[39m\u001b[38;5;241m.\u001b[39m_getitem_multilevel(key)\n\u001b[1;32m-> 3761\u001b[0m indexer \u001b[38;5;241m=\u001b[39m \u001b[38;5;28mself\u001b[39m\u001b[38;5;241m.\u001b[39mcolumns\u001b[38;5;241m.\u001b[39mget_loc(key)\n\u001b[0;32m   3762\u001b[0m \u001b[38;5;28;01mif\u001b[39;00m is_integer(indexer):\n\u001b[0;32m   3763\u001b[0m     indexer \u001b[38;5;241m=\u001b[39m [indexer]\n",
      "File \u001b[1;32m~\\anaconda3\\Anaconda\\Lib\\site-packages\\pandas\\core\\indexes\\base.py:3655\u001b[0m, in \u001b[0;36mIndex.get_loc\u001b[1;34m(self, key)\u001b[0m\n\u001b[0;32m   3653\u001b[0m     \u001b[38;5;28;01mreturn\u001b[39;00m \u001b[38;5;28mself\u001b[39m\u001b[38;5;241m.\u001b[39m_engine\u001b[38;5;241m.\u001b[39mget_loc(casted_key)\n\u001b[0;32m   3654\u001b[0m \u001b[38;5;28;01mexcept\u001b[39;00m \u001b[38;5;167;01mKeyError\u001b[39;00m \u001b[38;5;28;01mas\u001b[39;00m err:\n\u001b[1;32m-> 3655\u001b[0m     \u001b[38;5;28;01mraise\u001b[39;00m \u001b[38;5;167;01mKeyError\u001b[39;00m(key) \u001b[38;5;28;01mfrom\u001b[39;00m \u001b[38;5;21;01merr\u001b[39;00m\n\u001b[0;32m   3656\u001b[0m \u001b[38;5;28;01mexcept\u001b[39;00m \u001b[38;5;167;01mTypeError\u001b[39;00m:\n\u001b[0;32m   3657\u001b[0m     \u001b[38;5;66;03m# If we have a listlike key, _check_indexing_error will raise\u001b[39;00m\n\u001b[0;32m   3658\u001b[0m     \u001b[38;5;66;03m#  InvalidIndexError. Otherwise we fall through and re-raise\u001b[39;00m\n\u001b[0;32m   3659\u001b[0m     \u001b[38;5;66;03m#  the TypeError.\u001b[39;00m\n\u001b[0;32m   3660\u001b[0m     \u001b[38;5;28mself\u001b[39m\u001b[38;5;241m.\u001b[39m_check_indexing_error(key)\n",
      "\u001b[1;31mKeyError\u001b[0m: 'Date'"
     ]
    }
   ],
   "source": [
    "df['Date'] = df['Date'].astype(str)"
   ]
  },
  {
   "cell_type": "code",
   "execution_count": null,
   "id": "54f2ea0a",
   "metadata": {},
   "outputs": [],
   "source": [
    "\n",
    "import pandas as pd\n",
    "import matplotlib.pyplot as plt\n",
    "\n",
    "filename = 'AnalysisofMSinStocks.csv'\n",
    "\n",
    "# Read the CSV file into a pandas DataFrame\n",
    "df = pd.read_csv(filename)\n",
    "\n",
    "df.columns = df.columns.str.strip()\n",
    "\n",
    "# Convert the 'Date' column to string data type\n",
    "df['Date'] = df['Date'].astype(str)\n",
    "\n",
    "# Plot the data\n",
    "plt.figure(figsize=(20, 20))  # Set a reasonable figure size\n",
    "plt.plot(df['Date'], df['Amount in Dollars Change inMC'], marker='o', linestyle='-')\n",
    "plt.title('Stock Price change in dollars Over Time')\n",
    "plt.show()"
   ]
  },
  {
   "cell_type": "code",
   "execution_count": 19,
   "id": "3bda2c89",
   "metadata": {},
   "outputs": [
    {
     "name": "stdout",
     "output_type": "stream",
     "text": [
      "The Pearson Correlation Coefficient is 0.1286849564003526 with a P-value of P = 0.3886568193162382\n"
     ]
    }
   ],
   "source": [
    "import pandas as pd\n",
    "import numpy as np\n",
    "import scipy.stats as stats\n",
    "\n",
    "# Load your data into a DataFrame\n",
    "dataframe = pd.read_csv(\"AnalysisofMSinStocks.csv\")\n",
    "\n",
    "# Replace '?' with 'NaN'\n",
    "dataframe.replace('?', np.nan, inplace=True)\n",
    "\n",
    "# Drop rows with NaN values\n",
    "dataframe.dropna(inplace=True)\n",
    "\n",
    "# Calculate Pearson correlation coefficient and p-value\n",
    "pearson_coef, p_value = stats.pearsonr(dataframe['Positive Sentiment Score '], dataframe['Amount in Dollars Change inMC '])\n",
    "\n",
    "# Print the results\n",
    "print(\"The Pearson Correlation Coefficient is\", pearson_coef, \"with a P-value of P =\", p_value)\n"
   ]
  },
  {
   "cell_type": "code",
   "execution_count": 20,
   "id": "7a49a20d",
   "metadata": {},
   "outputs": [
    {
     "name": "stdout",
     "output_type": "stream",
     "text": [
      "The Pearson Correlation Coefficient is 0.1894284360026575 with a P-value of P = 0.2022140420237079\n"
     ]
    }
   ],
   "source": [
    "\n",
    "# Calculate Pearson correlation coefficient and p-value\n",
    "pearson_coef, p_value = stats.pearsonr(dataframe['Negative Sentiment Score '], dataframe['Amount in Dollars Change inMC '])\n",
    "\n",
    "# Print the results\n",
    "print(\"The Pearson Correlation Coefficient is\", pearson_coef, \"with a P-value of P =\", p_value)"
   ]
  },
  {
   "cell_type": "code",
   "execution_count": 21,
   "id": "49ae58a7",
   "metadata": {},
   "outputs": [
    {
     "name": "stdout",
     "output_type": "stream",
     "text": [
      "The Pearson Correlation Coefficient is -0.26306442559519577 with a P-value of P = 0.07401361398000043\n"
     ]
    }
   ],
   "source": [
    "\n",
    "# Calculate Pearson correlation coefficient and p-value\n",
    "pearson_coef, p_value = stats.pearsonr(dataframe['Neutral Sentiment Score '], dataframe['Amount in Dollars Change inMC '])\n",
    "\n",
    "# Print the results\n",
    "print(\"The Pearson Correlation Coefficient is\", pearson_coef, \"with a P-value of P =\", p_value)"
   ]
  },
  {
   "cell_type": "code",
   "execution_count": 22,
   "id": "41007162",
   "metadata": {},
   "outputs": [],
   "source": [
    "import pandas as pd\n",
    "import numpy as np\n",
    "import matplotlib.pyplot as plt\n",
    "import seaborn as sns\n",
    "from sklearn.linear_model import LinearRegression\n",
    "from sklearn.preprocessing import StandardScaler, PolynomialFeatures\n",
    "from sklearn.pipeline import Pipeline\n",
    "from sklearn.metrics import mean_squared_error, r2_score\n",
    "import warnings\n",
    "warnings.filterwarnings(\"ignore\", category=UserWarning) \n",
    "%matplotlib inline"
   ]
  },
  {
   "cell_type": "code",
   "execution_count": 23,
   "id": "a9101753",
   "metadata": {},
   "outputs": [],
   "source": [
    "import pandas as pd\n",
    "import numpy as np\n",
    "import scipy.stats as stats\n",
    "\n",
    "# Load your data into a DataFrame\n",
    "dataframe = pd.read_csv(\"Analysis.csv\")\n",
    "\n",
    "# Replace '?' with 'NaN'\n",
    "dataframe.replace('?', np.nan, inplace=True)\n",
    "\n",
    "# Drop rows with NaN values\n",
    "dataframe.dropna(inplace=True)"
   ]
  },
  {
   "cell_type": "code",
   "execution_count": 24,
   "id": "753426b6",
   "metadata": {},
   "outputs": [],
   "source": [
    "lm = LinearRegression()\n",
    "\n",
    "X = dataframe[['Positive Sentiment Score ']]\n",
    "Y = dataframe['Amount in Dollars Change inMC ']\n",
    "\n",
    "lm.fit(X,Y)\n",
    "\n",
    "Yhat=lm.predict(X)"
   ]
  },
  {
   "cell_type": "code",
   "execution_count": 25,
   "id": "e4d83668",
   "metadata": {},
   "outputs": [
    {
     "data": {
      "image/png": "[encoded data removed]",
      "text/plain": [
       "<Figure size 640x480 with 1 Axes>"
      ]
     },
     "metadata": {},
     "output_type": "display_data"
    }
   ],
   "source": [
    "ax1 = sns.distplot(dataframe['Amount in Dollars Change inMC '], hist=False, color=\"r\", label=\"Actual Values\")\n",
    "\n",
    "# Create a distribution plot for predicted values\n",
    "sns.distplot(Yhat, hist=False, color=\"b\", label=\"Fitted Values\" , ax=ax1)\n",
    "\n",
    "plt.title('Actual vs Fitted Values for Price')\n",
    "plt.xlabel('Amount in Dollars Change inMC ')\n",
    "plt.ylabel('Postive Sentiment Score')\n",
    "plt.legend(['Actual Value', 'Predicted Value'])\n",
    "plt.show()"
   ]
  },
  {
   "cell_type": "code",
   "execution_count": 26,
   "id": "f2a16896",
   "metadata": {},
   "outputs": [],
   "source": [
    "lm = LinearRegression()\n",
    "\n",
    "X = dataframe[['Negative Sentiment Score ']]\n",
    "Y = dataframe['Amount in Dollars Change inMC ']\n",
    "\n",
    "lm.fit(X,Y)\n",
    "\n",
    "Yhat=lm.predict(X)"
   ]
  },
  {
   "cell_type": "code",
   "execution_count": 27,
   "id": "5285a971",
   "metadata": {},
   "outputs": [
    {
     "data": {
      "image/png": "[encoded data removed]",
      "text/plain": [
       "<Figure size 640x480 with 1 Axes>"
      ]
     },
     "metadata": {},
     "output_type": "display_data"
    }
   ],
   "source": [
    "ax1 = sns.distplot(dataframe['Amount in Dollars Change inMC '], hist=False, color=\"r\", label=\"Actual Values\")\n",
    "\n",
    "# Create a distribution plot for predicted values\n",
    "sns.distplot(Yhat, hist=False, color=\"b\", label=\"Fitted Values\" , ax=ax1)\n",
    "\n",
    "plt.title('Actual vs Fitted Values for Price')\n",
    "plt.xlabel('Amount in Dollars Change inMC ')\n",
    "plt.ylabel('Negative Sentiment Score')\n",
    "plt.legend(['Actual Value', 'Predicted Value'])\n",
    "plt.show()"
   ]
  },
  {
   "cell_type": "code",
   "execution_count": 28,
   "id": "92f8d988",
   "metadata": {},
   "outputs": [],
   "source": [
    "lm = LinearRegression()\n",
    "\n",
    "X = dataframe[['Neutral Sentiment Score ']]\n",
    "Y = dataframe['Amount in Dollars Change inMC ']\n",
    "\n",
    "lm.fit(X,Y)\n",
    "\n",
    "Yhat=lm.predict(X)"
   ]
  },
  {
   "cell_type": "code",
   "execution_count": 29,
   "id": "36c2a07c",
   "metadata": {},
   "outputs": [
    {
     "data": {
      "image/png": "[encoded data removed]",
      "text/plain": [
       "<Figure size 640x480 with 1 Axes>"
      ]
     },
     "metadata": {},
     "output_type": "display_data"
    }
   ],
   "source": [
    "ax1 = sns.distplot(dataframe['Amount in Dollars Change inMC '], hist=False, color=\"r\", label=\"Actual Values\")\n",
    "\n",
    "# Create a distribution plot for predicted values\n",
    "sns.distplot(Yhat, hist=False, color=\"b\", label=\"Fitted Values\" , ax=ax1)\n",
    "\n",
    "plt.title('Actual vs Fitted Values for Price')\n",
    "plt.xlabel('Amount in Dollars Change inMC ')\n",
    "plt.ylabel('Neutral Sentiment Score')\n",
    "plt.legend(['Actual Value', 'Predicted Value'])\n",
    "plt.show()"
   ]
  },
  {
   "cell_type": "code",
   "execution_count": 30,
   "id": "053d2bb1",
   "metadata": {},
   "outputs": [
    {
     "name": "stdout",
     "output_type": "stream",
     "text": [
      "Index(['Articles ', 'Overall Sentiment ', 'Positive Sentiment Score ',\n",
      "       'Negative Sentiment Score ', 'Neutral Sentiment Score ',\n",
      "       'Percentage Change in MC', 'Amount in Dollars Change inMC ', 'Date ',\n",
      "       'Open ', 'High ', 'Low ', 'Close '],\n",
      "      dtype='object')\n"
     ]
    }
   ],
   "source": [
    "import pandas as pd\n",
    "\n",
    "# Assuming you have a DataFrame named 'df'\n",
    "print(df.columns)"
   ]
  },
  {
   "cell_type": "code",
   "execution_count": 32,
   "id": "01395afc",
   "metadata": {},
   "outputs": [],
   "source": [
    "import pandas as pd\n",
    "\n",
    "# Assuming you have a DataFrame named 'df'\n",
    "y = df['Close ']  # Assign the 'Close' column to y"
   ]
  },
  {
   "cell_type": "code",
   "execution_count": 36,
   "id": "b3c98655",
   "metadata": {},
   "outputs": [],
   "source": [
    "y = df['Close ']"
   ]
  },
  {
   "cell_type": "code",
   "execution_count": 37,
   "id": "9fd490a4",
   "metadata": {},
   "outputs": [
    {
     "name": "stdout",
     "output_type": "stream",
     "text": [
      "(343,)\n"
     ]
    }
   ],
   "source": [
    "print(y.shape)"
   ]
  },
  {
   "cell_type": "code",
   "execution_count": 38,
   "id": "39b7f8cf",
   "metadata": {},
   "outputs": [
    {
     "name": "stdout",
     "output_type": "stream",
     "text": [
      "0    859.05\n",
      "1    859.05\n",
      "2    903.56\n",
      "3    903.56\n",
      "4    902.50\n",
      "Name: Close , dtype: float64\n"
     ]
    }
   ],
   "source": [
    "print(y[:5])"
   ]
  },
  {
   "cell_type": "code",
   "execution_count": 42,
   "id": "f336a251",
   "metadata": {
    "scrolled": true
   },
   "outputs": [
    {
     "data": {
      "text/html": [
       "<div>\n",
       "<style scoped>\n",
       "    .dataframe tbody tr th:only-of-type {\n",
       "        vertical-align: middle;\n",
       "    }\n",
       "\n",
       "    .dataframe tbody tr th {\n",
       "        vertical-align: top;\n",
       "    }\n",
       "\n",
       "    .dataframe thead th {\n",
       "        text-align: right;\n",
       "    }\n",
       "</style>\n",
       "<table border=\"1\" class=\"dataframe\">\n",
       "  <thead>\n",
       "    <tr style=\"text-align: right;\">\n",
       "      <th></th>\n",
       "      <th>Articles</th>\n",
       "      <th>Overall Sentiment</th>\n",
       "      <th>Positive Sentiment Score</th>\n",
       "      <th>Negative Sentiment Score</th>\n",
       "      <th>Neutral Sentiment Score</th>\n",
       "      <th>Percentage Change in MC</th>\n",
       "      <th>Amount in Dollars Change inMC</th>\n",
       "      <th>Date</th>\n",
       "      <th>Open</th>\n",
       "      <th>High</th>\n",
       "      <th>Low</th>\n",
       "      <th>Close</th>\n",
       "    </tr>\n",
       "  </thead>\n",
       "  <tbody>\n",
       "    <tr>\n",
       "      <th>0</th>\n",
       "      <td>A New Lens: Dotlumen CEO Cornel Amariei on Ass...</td>\n",
       "      <td>Positive</td>\n",
       "      <td>0.07</td>\n",
       "      <td>0.00</td>\n",
       "      <td>0.93</td>\n",
       "      <td>-3.44</td>\n",
       "      <td>-30.590027</td>\n",
       "      <td>4/3/2024</td>\n",
       "      <td>904.06</td>\n",
       "      <td>906.34</td>\n",
       "      <td>858.80</td>\n",
       "      <td>859.05</td>\n",
       "    </tr>\n",
       "    <tr>\n",
       "      <th>1</th>\n",
       "      <td>Coming Up ACEs: Decoding the AI Technology Tha...</td>\n",
       "      <td>Positive</td>\n",
       "      <td>0.12</td>\n",
       "      <td>0.01</td>\n",
       "      <td>0.88</td>\n",
       "      <td>-3.44</td>\n",
       "      <td>-30.590027</td>\n",
       "      <td>4/3/2024</td>\n",
       "      <td>904.06</td>\n",
       "      <td>906.34</td>\n",
       "      <td>858.80</td>\n",
       "      <td>859.05</td>\n",
       "    </tr>\n",
       "    <tr>\n",
       "      <th>2</th>\n",
       "      <td>Greater Scope: Doctors Get Inside Look at Gut ...</td>\n",
       "      <td>Positive</td>\n",
       "      <td>0.09</td>\n",
       "      <td>0.02</td>\n",
       "      <td>0.89</td>\n",
       "      <td>0.01</td>\n",
       "      <td>0.070007</td>\n",
       "      <td>3/28/2024</td>\n",
       "      <td>900.00</td>\n",
       "      <td>913.00</td>\n",
       "      <td>891.93</td>\n",
       "      <td>903.56</td>\n",
       "    </tr>\n",
       "    <tr>\n",
       "      <th>3</th>\n",
       "      <td>Get Cozy With ‘Palia’ on GeForce NOW</td>\n",
       "      <td>Positive</td>\n",
       "      <td>0.13</td>\n",
       "      <td>0.01</td>\n",
       "      <td>0.87</td>\n",
       "      <td>0.01</td>\n",
       "      <td>0.070007</td>\n",
       "      <td>3/29/2024</td>\n",
       "      <td>900.00</td>\n",
       "      <td>913.00</td>\n",
       "      <td>891.93</td>\n",
       "      <td>903.56</td>\n",
       "    </tr>\n",
       "    <tr>\n",
       "      <th>4</th>\n",
       "      <td>NVIDIA Hopper Leaps Ahead in Generative AI at ...</td>\n",
       "      <td>Positive</td>\n",
       "      <td>0.08</td>\n",
       "      <td>0.01</td>\n",
       "      <td>0.91</td>\n",
       "      <td>0.12</td>\n",
       "      <td>1.059998</td>\n",
       "      <td>3/27/2024</td>\n",
       "      <td>931.12</td>\n",
       "      <td>932.40</td>\n",
       "      <td>891.23</td>\n",
       "      <td>902.50</td>\n",
       "    </tr>\n",
       "  </tbody>\n",
       "</table>\n",
       "</div>"
      ],
      "text/plain": [
       "                                           Articles  Overall Sentiment   \\\n",
       "0  A New Lens: Dotlumen CEO Cornel Amariei on Ass...           Positive   \n",
       "1  Coming Up ACEs: Decoding the AI Technology Tha...           Positive   \n",
       "2  Greater Scope: Doctors Get Inside Look at Gut ...           Positive   \n",
       "3               Get Cozy With ‘Palia’ on GeForce NOW           Positive   \n",
       "4  NVIDIA Hopper Leaps Ahead in Generative AI at ...           Positive   \n",
       "\n",
       "   Positive Sentiment Score   Negative Sentiment Score   \\\n",
       "0                       0.07                       0.00   \n",
       "1                       0.12                       0.01   \n",
       "2                       0.09                       0.02   \n",
       "3                       0.13                       0.01   \n",
       "4                       0.08                       0.01   \n",
       "\n",
       "   Neutral Sentiment Score   Percentage Change in MC  \\\n",
       "0                      0.93                    -3.44   \n",
       "1                      0.88                    -3.44   \n",
       "2                      0.89                     0.01   \n",
       "3                      0.87                     0.01   \n",
       "4                      0.91                     0.12   \n",
       "\n",
       "   Amount in Dollars Change inMC       Date    Open    High     Low   Close   \n",
       "0                      -30.590027   4/3/2024  904.06  906.34  858.80  859.05  \n",
       "1                      -30.590027   4/3/2024  904.06  906.34  858.80  859.05  \n",
       "2                        0.070007  3/28/2024  900.00  913.00  891.93  903.56  \n",
       "3                        0.070007  3/29/2024  900.00  913.00  891.93  903.56  \n",
       "4                        1.059998  3/27/2024  931.12  932.40  891.23  902.50  "
      ]
     },
     "execution_count": 42,
     "metadata": {},
     "output_type": "execute_result"
    }
   ],
   "source": [
    "df.head()"
   ]
  },
  {
   "cell_type": "code",
   "execution_count": 54,
   "id": "5a197a23",
   "metadata": {},
   "outputs": [],
   "source": [
    "import pandas as pd\n",
    "from sklearn.linear_model import LinearRegression\n",
    "from sklearn.metrics import mean_squared_error, r2_score\n",
    "\n",
    "# Load the dataset into a pandas DataFrame\n",
    "data = pd.read_csv(\"AnalysisofMSinStocks.csv\")\n",
    "df = pd.DataFrame(data)\n",
    "\n",
    "# Drop rows with NaN values in-place\n",
    "df.dropna(inplace=True)\n",
    "\n"
   ]
  },
  {
   "cell_type": "code",
   "execution_count": 55,
   "id": "57646c9a",
   "metadata": {},
   "outputs": [
    {
     "name": "stdout",
     "output_type": "stream",
     "text": [
      "Mean Squared Error: 265.43\n",
      "R-squared: 0.04\n"
     ]
    }
   ],
   "source": [
    "# Assign 'Positive Sentiment Score' as the feature (X)\n",
    "X = df['Positive Sentiment Score '].values.reshape(-1, 1)\n",
    "\n",
    "# Assign 'Close' as the target variable (y)\n",
    "y = df['Close '].values\n",
    "\n",
    "# Fit the linear regression model\n",
    "model = LinearRegression()\n",
    "model.fit(X, y)\n",
    "\n",
    "# Make predictions on the training data\n",
    "y_pred = model.predict(X)\n",
    "\n",
    "# Compute Mean Squared Error (MSE)\n",
    "mse = mean_squared_error(y, y_pred)\n",
    "print(f\"Mean Squared Error: {mse:.2f}\")\n",
    "\n",
    "# Compute R-squared\n",
    "r2 = r2_score(y, y_pred)\n",
    "print(f\"R-squared: {r2:.2f}\")"
   ]
  },
  {
   "cell_type": "code",
   "execution_count": 56,
   "id": "fce92017",
   "metadata": {},
   "outputs": [
    {
     "name": "stdout",
     "output_type": "stream",
     "text": [
      "Mean Squared Error: 276.97\n",
      "R-squared: 0.00\n"
     ]
    }
   ],
   "source": [
    "# Assign 'Positive Sentiment Score' as the feature (X)\n",
    "X = df['Negative Sentiment Score '].values.reshape(-1, 1)\n",
    "\n",
    "# Assign 'Close' as the target variable (y)\n",
    "y = df['Close '].values\n",
    "\n",
    "# Fit the linear regression model\n",
    "model = LinearRegression()\n",
    "model.fit(X, y)\n",
    "\n",
    "# Make predictions on the training data\n",
    "y_pred = model.predict(X)\n",
    "\n",
    "# Compute Mean Squared Error (MSE)\n",
    "mse = mean_squared_error(y, y_pred)\n",
    "print(f\"Mean Squared Error: {mse:.2f}\")\n",
    "\n",
    "# Compute R-squared\n",
    "r2 = r2_score(y, y_pred)\n",
    "print(f\"R-squared: {r2:.2f}\")"
   ]
  },
  {
   "cell_type": "code",
   "execution_count": 57,
   "id": "c618d78c",
   "metadata": {},
   "outputs": [
    {
     "name": "stdout",
     "output_type": "stream",
     "text": [
      "Mean Squared Error: 275.31\n",
      "R-squared: 0.01\n"
     ]
    }
   ],
   "source": [
    "# Assign 'Positive Sentiment Score' as the feature (X)\n",
    "X = df['Neutral Sentiment Score '].values.reshape(-1, 1)\n",
    "\n",
    "# Assign 'Close' as the target variable (y)\n",
    "y = df['Close '].values\n",
    "\n",
    "# Fit the linear regression model\n",
    "model = LinearRegression()\n",
    "model.fit(X, y)\n",
    "\n",
    "# Make predictions on the training data\n",
    "y_pred = model.predict(X)\n",
    "\n",
    "# Compute Mean Squared Error (MSE)\n",
    "mse = mean_squared_error(y, y_pred)\n",
    "print(f\"Mean Squared Error: {mse:.2f}\")\n",
    "\n",
    "# Compute R-squared\n",
    "r2 = r2_score(y, y_pred)\n",
    "print(f\"R-squared: {r2:.2f}\")"
   ]
  },
  {
   "cell_type": "code",
   "execution_count": 73,
   "id": "60fc7d9a",
   "metadata": {},
   "outputs": [
    {
     "name": "stdout",
     "output_type": "stream",
     "text": [
      "Index(['Articles ', 'Overall Sentiment ', 'Positive Sentiment Score ',\n",
      "       'Negative Sentiment Score ', 'Neutral Sentiment Score ',\n",
      "       'Percentage Change in MC', 'Amount in Dollars Change inMC ', 'Date ',\n",
      "       'Open ', 'High ', 'Low ', 'Close '],\n",
      "      dtype='object')\n"
     ]
    }
   ],
   "source": [
    "column_names = df.columns\n",
    "\n",
    "print(column_names)"
   ]
  },
  {
   "cell_type": "code",
   "execution_count": 76,
   "id": "c144bf91",
   "metadata": {},
   "outputs": [
    {
     "name": "stdout",
     "output_type": "stream",
     "text": [
      "Mean Squared Error: 21.51\n",
      "R-squared: 0.92\n"
     ]
    }
   ],
   "source": [
    "import pandas as pd\n",
    "from sklearn.linear_model import LinearRegression\n",
    "from sklearn.metrics import mean_squared_error, r2_score\n",
    "\n",
    "# Load the dataset into a pandas DataFrame\n",
    "data = pd.read_csv('AnalysisofMSinStocks.csv')\n",
    "df = pd.DataFrame(data)\n",
    "\n",
    "df = df.dropna(how='any')\n",
    "\n",
    "# Assign multiple columns as features (X)\n",
    "X = df[['Positive Sentiment Score ', 'Open ', 'High ', 'Low ']]\n",
    "\n",
    "# Assign 'Close ' as the target variable (y)\n",
    "y = df['Close '].values\n",
    "\n",
    "# Fit the linear regression model\n",
    "model = LinearRegression()\n",
    "model.fit(X, y)\n",
    "\n",
    "# Make predictions on the training data\n",
    "y_pred = model.predict(X)\n",
    "\n",
    "# Compute Mean Squared Error (MSE)\n",
    "mse = mean_squared_error(y, y_pred)\n",
    "print(f\"Mean Squared Error: {mse:.2f}\")\n",
    "\n",
    "# Compute R-squared\n",
    "r2 = r2_score(y, y_pred)\n",
    "print(f\"R-squared: {r2:.2f}\")"
   ]
  },
  {
   "cell_type": "code",
   "execution_count": null,
   "id": "0f21e6ae",
   "metadata": {},
   "outputs": [],
   "source": []
  }
 ],
 "metadata": {
  "kernelspec": {
   "display_name": "Python 3 (ipykernel)",
   "language": "python",
   "name": "python3"
  },
  "language_info": {
   "codemirror_mode": {
    "name": "ipython",
    "version": 3
   },
   "file_extension": ".py",
   "mimetype": "text/x-python",
   "name": "python",
   "nbconvert_exporter": "python",
   "pygments_lexer": "ipython3",
   "version": "3.11.5"
  }
 },
 "nbformat": 4,
 "nbformat_minor": 5
}
